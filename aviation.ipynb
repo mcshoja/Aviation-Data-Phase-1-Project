{
 "cells": [
  {
   "cell_type": "markdown",
   "metadata": {},
   "source": [
    "## Aviation Safety Risk Analysis: Identifying Low-Risk Aircraft Models"
   ]
  },
  {
   "cell_type": "markdown",
   "metadata": {},
   "source": [
    "### Overview\n",
    "This project evaluates civil aviation accident data from the National Transportation Safety Board (NTSB), covering incidents between 1948 and 2022. The purpose is to provide data-driven insights into aircraft safety, focusing on risk levels associated with different aircraft types and operational conditions. The final outcome is a set of actionable recommendations to guide business stakeholders in selecting aircraft models with the lowest risk profiles for potential acquisition and operation."
   ]
  },
  {
   "cell_type": "markdown",
   "metadata": {},
   "source": [
    "### Business Understanding\n",
    "The company intends to expand operations into the aviation industry, with an interest in both commercial and private aircraft. Entering this market involves significant financial and reputational risks, particularly if aircraft selected for acquisition are associated with high accident or fatality rates. The key business need is to identify aircraft models and operational factors that demonstrate the lowest risk. The findings will support informed decision-making for the head of the aviation division, whose objective is to minimize risk exposure while ensuring operational safety and long-term viability."
   ]
  },
  {
   "cell_type": "markdown",
   "metadata": {},
   "source": [
    "### Objectives\n",
    "* Identify aircraft models with the lowest accident and fatality rates.\n",
    "* Determine the operational or environmental factors (such as weather conditions, phase of flight, or purpose of flight) that most strongly influence accident severity.\n",
    "* Analyze historical trends to assess whether safety outcomes have improved over time, particularly with newer aircraft or changing regulations."
   ]
  },
  {
   "cell_type": "markdown",
   "metadata": {},
   "source": [
    "### 1. Data Loading"
   ]
  },
  {
   "cell_type": "code",
   "execution_count": 137,
   "metadata": {},
   "outputs": [],
   "source": [
    "# Import Required Liabraries\n",
    "import pandas as pd\n",
    "import numpy as np\n",
    "import matplotlib.pyplot as plt\n",
    "import seaborn as sns;"
   ]
  },
  {
   "cell_type": "code",
   "execution_count": 138,
   "metadata": {},
   "outputs": [
    {
     "name": "stderr",
     "output_type": "stream",
     "text": [
      "c:\\Users\\Jasho\\anaconda3\\envs\\learn-env\\lib\\site-packages\\IPython\\core\\interactiveshell.py:3145: DtypeWarning: Columns (6,7,28) have mixed types.Specify dtype option on import or set low_memory=False.\n",
      "  has_raised = await self.run_ast_nodes(code_ast.body, cell_name,\n"
     ]
    },
    {
     "data": {
      "text/html": [
       "<div>\n",
       "<style scoped>\n",
       "    .dataframe tbody tr th:only-of-type {\n",
       "        vertical-align: middle;\n",
       "    }\n",
       "\n",
       "    .dataframe tbody tr th {\n",
       "        vertical-align: top;\n",
       "    }\n",
       "\n",
       "    .dataframe thead th {\n",
       "        text-align: right;\n",
       "    }\n",
       "</style>\n",
       "<table border=\"1\" class=\"dataframe\">\n",
       "  <thead>\n",
       "    <tr style=\"text-align: right;\">\n",
       "      <th></th>\n",
       "      <th>Event.Id</th>\n",
       "      <th>Investigation.Type</th>\n",
       "      <th>Accident.Number</th>\n",
       "      <th>Event.Date</th>\n",
       "      <th>Location</th>\n",
       "      <th>Country</th>\n",
       "      <th>Latitude</th>\n",
       "      <th>Longitude</th>\n",
       "      <th>Airport.Code</th>\n",
       "      <th>Airport.Name</th>\n",
       "      <th>...</th>\n",
       "      <th>Purpose.of.flight</th>\n",
       "      <th>Air.carrier</th>\n",
       "      <th>Total.Fatal.Injuries</th>\n",
       "      <th>Total.Serious.Injuries</th>\n",
       "      <th>Total.Minor.Injuries</th>\n",
       "      <th>Total.Uninjured</th>\n",
       "      <th>Weather.Condition</th>\n",
       "      <th>Broad.phase.of.flight</th>\n",
       "      <th>Report.Status</th>\n",
       "      <th>Publication.Date</th>\n",
       "    </tr>\n",
       "  </thead>\n",
       "  <tbody>\n",
       "    <tr>\n",
       "      <th>0</th>\n",
       "      <td>20001218X45444</td>\n",
       "      <td>Accident</td>\n",
       "      <td>SEA87LA080</td>\n",
       "      <td>1948-10-24</td>\n",
       "      <td>MOOSE CREEK, ID</td>\n",
       "      <td>United States</td>\n",
       "      <td>NaN</td>\n",
       "      <td>NaN</td>\n",
       "      <td>NaN</td>\n",
       "      <td>NaN</td>\n",
       "      <td>...</td>\n",
       "      <td>Personal</td>\n",
       "      <td>NaN</td>\n",
       "      <td>2.0</td>\n",
       "      <td>0.0</td>\n",
       "      <td>0.0</td>\n",
       "      <td>0.0</td>\n",
       "      <td>UNK</td>\n",
       "      <td>Cruise</td>\n",
       "      <td>Probable Cause</td>\n",
       "      <td>NaN</td>\n",
       "    </tr>\n",
       "    <tr>\n",
       "      <th>1</th>\n",
       "      <td>20001218X45447</td>\n",
       "      <td>Accident</td>\n",
       "      <td>LAX94LA336</td>\n",
       "      <td>1962-07-19</td>\n",
       "      <td>BRIDGEPORT, CA</td>\n",
       "      <td>United States</td>\n",
       "      <td>NaN</td>\n",
       "      <td>NaN</td>\n",
       "      <td>NaN</td>\n",
       "      <td>NaN</td>\n",
       "      <td>...</td>\n",
       "      <td>Personal</td>\n",
       "      <td>NaN</td>\n",
       "      <td>4.0</td>\n",
       "      <td>0.0</td>\n",
       "      <td>0.0</td>\n",
       "      <td>0.0</td>\n",
       "      <td>UNK</td>\n",
       "      <td>Unknown</td>\n",
       "      <td>Probable Cause</td>\n",
       "      <td>19-09-1996</td>\n",
       "    </tr>\n",
       "    <tr>\n",
       "      <th>2</th>\n",
       "      <td>20061025X01555</td>\n",
       "      <td>Accident</td>\n",
       "      <td>NYC07LA005</td>\n",
       "      <td>1974-08-30</td>\n",
       "      <td>Saltville, VA</td>\n",
       "      <td>United States</td>\n",
       "      <td>36.9222</td>\n",
       "      <td>-81.8781</td>\n",
       "      <td>NaN</td>\n",
       "      <td>NaN</td>\n",
       "      <td>...</td>\n",
       "      <td>Personal</td>\n",
       "      <td>NaN</td>\n",
       "      <td>3.0</td>\n",
       "      <td>NaN</td>\n",
       "      <td>NaN</td>\n",
       "      <td>NaN</td>\n",
       "      <td>IMC</td>\n",
       "      <td>Cruise</td>\n",
       "      <td>Probable Cause</td>\n",
       "      <td>26-02-2007</td>\n",
       "    </tr>\n",
       "    <tr>\n",
       "      <th>3</th>\n",
       "      <td>20001218X45448</td>\n",
       "      <td>Accident</td>\n",
       "      <td>LAX96LA321</td>\n",
       "      <td>1977-06-19</td>\n",
       "      <td>EUREKA, CA</td>\n",
       "      <td>United States</td>\n",
       "      <td>NaN</td>\n",
       "      <td>NaN</td>\n",
       "      <td>NaN</td>\n",
       "      <td>NaN</td>\n",
       "      <td>...</td>\n",
       "      <td>Personal</td>\n",
       "      <td>NaN</td>\n",
       "      <td>2.0</td>\n",
       "      <td>0.0</td>\n",
       "      <td>0.0</td>\n",
       "      <td>0.0</td>\n",
       "      <td>IMC</td>\n",
       "      <td>Cruise</td>\n",
       "      <td>Probable Cause</td>\n",
       "      <td>12-09-2000</td>\n",
       "    </tr>\n",
       "    <tr>\n",
       "      <th>4</th>\n",
       "      <td>20041105X01764</td>\n",
       "      <td>Accident</td>\n",
       "      <td>CHI79FA064</td>\n",
       "      <td>1979-08-02</td>\n",
       "      <td>Canton, OH</td>\n",
       "      <td>United States</td>\n",
       "      <td>NaN</td>\n",
       "      <td>NaN</td>\n",
       "      <td>NaN</td>\n",
       "      <td>NaN</td>\n",
       "      <td>...</td>\n",
       "      <td>Personal</td>\n",
       "      <td>NaN</td>\n",
       "      <td>1.0</td>\n",
       "      <td>2.0</td>\n",
       "      <td>NaN</td>\n",
       "      <td>0.0</td>\n",
       "      <td>VMC</td>\n",
       "      <td>Approach</td>\n",
       "      <td>Probable Cause</td>\n",
       "      <td>16-04-1980</td>\n",
       "    </tr>\n",
       "  </tbody>\n",
       "</table>\n",
       "<p>5 rows × 31 columns</p>\n",
       "</div>"
      ],
      "text/plain": [
       "         Event.Id Investigation.Type Accident.Number  Event.Date  \\\n",
       "0  20001218X45444           Accident      SEA87LA080  1948-10-24   \n",
       "1  20001218X45447           Accident      LAX94LA336  1962-07-19   \n",
       "2  20061025X01555           Accident      NYC07LA005  1974-08-30   \n",
       "3  20001218X45448           Accident      LAX96LA321  1977-06-19   \n",
       "4  20041105X01764           Accident      CHI79FA064  1979-08-02   \n",
       "\n",
       "          Location        Country Latitude Longitude Airport.Code  \\\n",
       "0  MOOSE CREEK, ID  United States      NaN       NaN          NaN   \n",
       "1   BRIDGEPORT, CA  United States      NaN       NaN          NaN   \n",
       "2    Saltville, VA  United States  36.9222  -81.8781          NaN   \n",
       "3       EUREKA, CA  United States      NaN       NaN          NaN   \n",
       "4       Canton, OH  United States      NaN       NaN          NaN   \n",
       "\n",
       "  Airport.Name  ... Purpose.of.flight Air.carrier Total.Fatal.Injuries  \\\n",
       "0          NaN  ...          Personal         NaN                  2.0   \n",
       "1          NaN  ...          Personal         NaN                  4.0   \n",
       "2          NaN  ...          Personal         NaN                  3.0   \n",
       "3          NaN  ...          Personal         NaN                  2.0   \n",
       "4          NaN  ...          Personal         NaN                  1.0   \n",
       "\n",
       "  Total.Serious.Injuries Total.Minor.Injuries Total.Uninjured  \\\n",
       "0                    0.0                  0.0             0.0   \n",
       "1                    0.0                  0.0             0.0   \n",
       "2                    NaN                  NaN             NaN   \n",
       "3                    0.0                  0.0             0.0   \n",
       "4                    2.0                  NaN             0.0   \n",
       "\n",
       "  Weather.Condition  Broad.phase.of.flight   Report.Status Publication.Date  \n",
       "0               UNK                 Cruise  Probable Cause              NaN  \n",
       "1               UNK                Unknown  Probable Cause       19-09-1996  \n",
       "2               IMC                 Cruise  Probable Cause       26-02-2007  \n",
       "3               IMC                 Cruise  Probable Cause       12-09-2000  \n",
       "4               VMC               Approach  Probable Cause       16-04-1980  \n",
       "\n",
       "[5 rows x 31 columns]"
      ]
     },
     "execution_count": 138,
     "metadata": {},
     "output_type": "execute_result"
    }
   ],
   "source": [
    "# Load the Dataset\n",
    "df = pd. read_csv('./Aviation_Data.csv')\n",
    "df.head()"
   ]
  },
  {
   "cell_type": "code",
   "execution_count": 139,
   "metadata": {},
   "outputs": [
    {
     "data": {
      "text/plain": [
       "(90348, 31)"
      ]
     },
     "execution_count": 139,
     "metadata": {},
     "output_type": "execute_result"
    }
   ],
   "source": [
    "# Shape of the dataset\n",
    "df.shape"
   ]
  },
  {
   "cell_type": "code",
   "execution_count": 140,
   "metadata": {},
   "outputs": [
    {
     "data": {
      "text/plain": [
       "Index(['Event.Id', 'Investigation.Type', 'Accident.Number', 'Event.Date',\n",
       "       'Location', 'Country', 'Latitude', 'Longitude', 'Airport.Code',\n",
       "       'Airport.Name', 'Injury.Severity', 'Aircraft.damage',\n",
       "       'Aircraft.Category', 'Registration.Number', 'Make', 'Model',\n",
       "       'Amateur.Built', 'Number.of.Engines', 'Engine.Type', 'FAR.Description',\n",
       "       'Schedule', 'Purpose.of.flight', 'Air.carrier', 'Total.Fatal.Injuries',\n",
       "       'Total.Serious.Injuries', 'Total.Minor.Injuries', 'Total.Uninjured',\n",
       "       'Weather.Condition', 'Broad.phase.of.flight', 'Report.Status',\n",
       "       'Publication.Date'],\n",
       "      dtype='object')"
      ]
     },
     "execution_count": 140,
     "metadata": {},
     "output_type": "execute_result"
    }
   ],
   "source": [
    "# Column names\n",
    "df.columns"
   ]
  },
  {
   "cell_type": "code",
   "execution_count": 141,
   "metadata": {},
   "outputs": [
    {
     "name": "stdout",
     "output_type": "stream",
     "text": [
      "<class 'pandas.core.frame.DataFrame'>\n",
      "RangeIndex: 90348 entries, 0 to 90347\n",
      "Data columns (total 31 columns):\n",
      " #   Column                  Non-Null Count  Dtype  \n",
      "---  ------                  --------------  -----  \n",
      " 0   Event.Id                88889 non-null  object \n",
      " 1   Investigation.Type      90348 non-null  object \n",
      " 2   Accident.Number         88889 non-null  object \n",
      " 3   Event.Date              88889 non-null  object \n",
      " 4   Location                88837 non-null  object \n",
      " 5   Country                 88663 non-null  object \n",
      " 6   Latitude                34382 non-null  object \n",
      " 7   Longitude               34373 non-null  object \n",
      " 8   Airport.Code            50249 non-null  object \n",
      " 9   Airport.Name            52790 non-null  object \n",
      " 10  Injury.Severity         87889 non-null  object \n",
      " 11  Aircraft.damage         85695 non-null  object \n",
      " 12  Aircraft.Category       32287 non-null  object \n",
      " 13  Registration.Number     87572 non-null  object \n",
      " 14  Make                    88826 non-null  object \n",
      " 15  Model                   88797 non-null  object \n",
      " 16  Amateur.Built           88787 non-null  object \n",
      " 17  Number.of.Engines       82805 non-null  float64\n",
      " 18  Engine.Type             81812 non-null  object \n",
      " 19  FAR.Description         32023 non-null  object \n",
      " 20  Schedule                12582 non-null  object \n",
      " 21  Purpose.of.flight       82697 non-null  object \n",
      " 22  Air.carrier             16648 non-null  object \n",
      " 23  Total.Fatal.Injuries    77488 non-null  float64\n",
      " 24  Total.Serious.Injuries  76379 non-null  float64\n",
      " 25  Total.Minor.Injuries    76956 non-null  float64\n",
      " 26  Total.Uninjured         82977 non-null  float64\n",
      " 27  Weather.Condition       84397 non-null  object \n",
      " 28  Broad.phase.of.flight   61724 non-null  object \n",
      " 29  Report.Status           82508 non-null  object \n",
      " 30  Publication.Date        73659 non-null  object \n",
      "dtypes: float64(5), object(26)\n",
      "memory usage: 21.4+ MB\n"
     ]
    }
   ],
   "source": [
    "# Overview of the dataset\n",
    "df.info()"
   ]
  },
  {
   "cell_type": "markdown",
   "metadata": {},
   "source": [
    "### 2. Data Understanding"
   ]
  },
  {
   "cell_type": "code",
   "execution_count": 142,
   "metadata": {},
   "outputs": [
    {
     "name": "stdout",
     "output_type": "stream",
     "text": [
      "Dataset Years: 1948.0 - 2022.0\n"
     ]
    }
   ],
   "source": [
    "# Dataset Coverage\n",
    "\n",
    "# Convert Event.Date column to datetime\n",
    "df[\"Event.Date\"] = pd.to_datetime(df[\"Event.Date\"], errors=\"coerce\")\n",
    "\n",
    "# Get min and max year from Event.Date\n",
    "print(\"Dataset Years:\", df[\"Event.Date\"].dt.year.min(), \"-\", df[\"Event.Date\"].dt.year.max())"
   ]
  },
  {
   "cell_type": "code",
   "execution_count": 143,
   "metadata": {},
   "outputs": [
    {
     "name": "stdout",
     "output_type": "stream",
     "text": [
      "Top 10 Countries by number of events:\n",
      "United States     82248\n",
      "Brazil              374\n",
      "Canada              359\n",
      "Mexico              358\n",
      "United Kingdom      344\n",
      "Australia           300\n",
      "France              236\n",
      "Spain               226\n",
      "Bahamas             216\n",
      "Germany             215\n",
      "Name: Country, dtype: int64\n"
     ]
    }
   ],
   "source": [
    "# Top 10 countries with most recorded events\n",
    "top_countries = df[\"Country\"].value_counts().head(10)\n",
    "print(\"Top 10 Countries by number of events:\")\n",
    "print(top_countries)"
   ]
  },
  {
   "cell_type": "code",
   "execution_count": 144,
   "metadata": {},
   "outputs": [
    {
     "name": "stdout",
     "output_type": "stream",
     "text": [
      "Top Aircraft Categories:\n",
      "NaN                  58061\n",
      "Airplane             27617\n",
      "Helicopter            3440\n",
      "Glider                 508\n",
      "Balloon                231\n",
      "Gyrocraft              173\n",
      "Weight-Shift           161\n",
      "Powered Parachute       91\n",
      "Ultralight              30\n",
      "Unknown                 14\n",
      "Name: Aircraft.Category, dtype: int64\n"
     ]
    }
   ],
   "source": [
    "# Aircraft Categories distribution\n",
    "aircraft_categories = df[\"Aircraft.Category\"].value_counts(dropna=False).head(10)\n",
    "print(\"Top Aircraft Categories:\")\n",
    "print(aircraft_categories)"
   ]
  },
  {
   "cell_type": "code",
   "execution_count": 145,
   "metadata": {},
   "outputs": [
    {
     "data": {
      "text/html": [
       "<div>\n",
       "<style scoped>\n",
       "    .dataframe tbody tr th:only-of-type {\n",
       "        vertical-align: middle;\n",
       "    }\n",
       "\n",
       "    .dataframe tbody tr th {\n",
       "        vertical-align: top;\n",
       "    }\n",
       "\n",
       "    .dataframe thead th {\n",
       "        text-align: right;\n",
       "    }\n",
       "</style>\n",
       "<table border=\"1\" class=\"dataframe\">\n",
       "  <thead>\n",
       "    <tr style=\"text-align: right;\">\n",
       "      <th></th>\n",
       "      <th>count</th>\n",
       "      <th>mean</th>\n",
       "      <th>std</th>\n",
       "      <th>min</th>\n",
       "      <th>25%</th>\n",
       "      <th>50%</th>\n",
       "      <th>75%</th>\n",
       "      <th>max</th>\n",
       "    </tr>\n",
       "  </thead>\n",
       "  <tbody>\n",
       "    <tr>\n",
       "      <th>Total.Fatal.Injuries</th>\n",
       "      <td>77488.0</td>\n",
       "      <td>0.647855</td>\n",
       "      <td>5.485960</td>\n",
       "      <td>0.0</td>\n",
       "      <td>0.0</td>\n",
       "      <td>0.0</td>\n",
       "      <td>0.0</td>\n",
       "      <td>349.0</td>\n",
       "    </tr>\n",
       "    <tr>\n",
       "      <th>Total.Serious.Injuries</th>\n",
       "      <td>76379.0</td>\n",
       "      <td>0.279881</td>\n",
       "      <td>1.544084</td>\n",
       "      <td>0.0</td>\n",
       "      <td>0.0</td>\n",
       "      <td>0.0</td>\n",
       "      <td>0.0</td>\n",
       "      <td>161.0</td>\n",
       "    </tr>\n",
       "    <tr>\n",
       "      <th>Total.Minor.Injuries</th>\n",
       "      <td>76956.0</td>\n",
       "      <td>0.357061</td>\n",
       "      <td>2.235625</td>\n",
       "      <td>0.0</td>\n",
       "      <td>0.0</td>\n",
       "      <td>0.0</td>\n",
       "      <td>0.0</td>\n",
       "      <td>380.0</td>\n",
       "    </tr>\n",
       "    <tr>\n",
       "      <th>Total.Uninjured</th>\n",
       "      <td>82977.0</td>\n",
       "      <td>5.325440</td>\n",
       "      <td>27.913634</td>\n",
       "      <td>0.0</td>\n",
       "      <td>0.0</td>\n",
       "      <td>1.0</td>\n",
       "      <td>2.0</td>\n",
       "      <td>699.0</td>\n",
       "    </tr>\n",
       "    <tr>\n",
       "      <th>Number.of.Engines</th>\n",
       "      <td>82805.0</td>\n",
       "      <td>1.146585</td>\n",
       "      <td>0.446510</td>\n",
       "      <td>0.0</td>\n",
       "      <td>1.0</td>\n",
       "      <td>1.0</td>\n",
       "      <td>1.0</td>\n",
       "      <td>8.0</td>\n",
       "    </tr>\n",
       "  </tbody>\n",
       "</table>\n",
       "</div>"
      ],
      "text/plain": [
       "                          count      mean        std  min  25%  50%  75%  \\\n",
       "Total.Fatal.Injuries    77488.0  0.647855   5.485960  0.0  0.0  0.0  0.0   \n",
       "Total.Serious.Injuries  76379.0  0.279881   1.544084  0.0  0.0  0.0  0.0   \n",
       "Total.Minor.Injuries    76956.0  0.357061   2.235625  0.0  0.0  0.0  0.0   \n",
       "Total.Uninjured         82977.0  5.325440  27.913634  0.0  0.0  1.0  2.0   \n",
       "Number.of.Engines       82805.0  1.146585   0.446510  0.0  1.0  1.0  1.0   \n",
       "\n",
       "                          max  \n",
       "Total.Fatal.Injuries    349.0  \n",
       "Total.Serious.Injuries  161.0  \n",
       "Total.Minor.Injuries    380.0  \n",
       "Total.Uninjured         699.0  \n",
       "Number.of.Engines         8.0  "
      ]
     },
     "execution_count": 145,
     "metadata": {},
     "output_type": "execute_result"
    }
   ],
   "source": [
    "# Descriptive Statistics for Numeric Fields\n",
    "# numeric columns related to injuries and engines\n",
    "numeric_cols = [\n",
    "    \"Total.Fatal.Injuries\", \n",
    "    \"Total.Serious.Injuries\", \n",
    "    \"Total.Minor.Injuries\", \n",
    "    \"Total.Uninjured\", \n",
    "    \"Number.of.Engines\"\n",
    "]\n",
    "\n",
    "df[numeric_cols].describe().transpose()"
   ]
  },
  {
   "cell_type": "code",
   "execution_count": 146,
   "metadata": {},
   "outputs": [
    {
     "data": {
      "text/html": [
       "<div>\n",
       "<style scoped>\n",
       "    .dataframe tbody tr th:only-of-type {\n",
       "        vertical-align: middle;\n",
       "    }\n",
       "\n",
       "    .dataframe tbody tr th {\n",
       "        vertical-align: top;\n",
       "    }\n",
       "\n",
       "    .dataframe thead th {\n",
       "        text-align: right;\n",
       "    }\n",
       "</style>\n",
       "<table border=\"1\" class=\"dataframe\">\n",
       "  <thead>\n",
       "    <tr style=\"text-align: right;\">\n",
       "      <th></th>\n",
       "      <th>Column</th>\n",
       "      <th>Missing_Count</th>\n",
       "      <th>Missing_Percent</th>\n",
       "    </tr>\n",
       "  </thead>\n",
       "  <tbody>\n",
       "    <tr>\n",
       "      <th>20</th>\n",
       "      <td>Schedule</td>\n",
       "      <td>77766</td>\n",
       "      <td>86.073848</td>\n",
       "    </tr>\n",
       "    <tr>\n",
       "      <th>22</th>\n",
       "      <td>Air.carrier</td>\n",
       "      <td>73700</td>\n",
       "      <td>81.573471</td>\n",
       "    </tr>\n",
       "    <tr>\n",
       "      <th>19</th>\n",
       "      <td>FAR.Description</td>\n",
       "      <td>58325</td>\n",
       "      <td>64.555939</td>\n",
       "    </tr>\n",
       "    <tr>\n",
       "      <th>12</th>\n",
       "      <td>Aircraft.Category</td>\n",
       "      <td>58061</td>\n",
       "      <td>64.263736</td>\n",
       "    </tr>\n",
       "    <tr>\n",
       "      <th>7</th>\n",
       "      <td>Longitude</td>\n",
       "      <td>55975</td>\n",
       "      <td>61.954886</td>\n",
       "    </tr>\n",
       "    <tr>\n",
       "      <th>6</th>\n",
       "      <td>Latitude</td>\n",
       "      <td>55966</td>\n",
       "      <td>61.944924</td>\n",
       "    </tr>\n",
       "    <tr>\n",
       "      <th>8</th>\n",
       "      <td>Airport.Code</td>\n",
       "      <td>40099</td>\n",
       "      <td>44.382831</td>\n",
       "    </tr>\n",
       "    <tr>\n",
       "      <th>9</th>\n",
       "      <td>Airport.Name</td>\n",
       "      <td>37558</td>\n",
       "      <td>41.570372</td>\n",
       "    </tr>\n",
       "    <tr>\n",
       "      <th>28</th>\n",
       "      <td>Broad.phase.of.flight</td>\n",
       "      <td>28624</td>\n",
       "      <td>31.681941</td>\n",
       "    </tr>\n",
       "    <tr>\n",
       "      <th>30</th>\n",
       "      <td>Publication.Date</td>\n",
       "      <td>16689</td>\n",
       "      <td>18.471909</td>\n",
       "    </tr>\n",
       "    <tr>\n",
       "      <th>24</th>\n",
       "      <td>Total.Serious.Injuries</td>\n",
       "      <td>13969</td>\n",
       "      <td>15.461327</td>\n",
       "    </tr>\n",
       "    <tr>\n",
       "      <th>25</th>\n",
       "      <td>Total.Minor.Injuries</td>\n",
       "      <td>13392</td>\n",
       "      <td>14.822686</td>\n",
       "    </tr>\n",
       "    <tr>\n",
       "      <th>23</th>\n",
       "      <td>Total.Fatal.Injuries</td>\n",
       "      <td>12860</td>\n",
       "      <td>14.233851</td>\n",
       "    </tr>\n",
       "    <tr>\n",
       "      <th>18</th>\n",
       "      <td>Engine.Type</td>\n",
       "      <td>8536</td>\n",
       "      <td>9.447913</td>\n",
       "    </tr>\n",
       "    <tr>\n",
       "      <th>29</th>\n",
       "      <td>Report.Status</td>\n",
       "      <td>7840</td>\n",
       "      <td>8.677558</td>\n",
       "    </tr>\n",
       "  </tbody>\n",
       "</table>\n",
       "</div>"
      ],
      "text/plain": [
       "                    Column  Missing_Count  Missing_Percent\n",
       "20                Schedule          77766        86.073848\n",
       "22             Air.carrier          73700        81.573471\n",
       "19         FAR.Description          58325        64.555939\n",
       "12       Aircraft.Category          58061        64.263736\n",
       "7                Longitude          55975        61.954886\n",
       "6                 Latitude          55966        61.944924\n",
       "8             Airport.Code          40099        44.382831\n",
       "9             Airport.Name          37558        41.570372\n",
       "28   Broad.phase.of.flight          28624        31.681941\n",
       "30        Publication.Date          16689        18.471909\n",
       "24  Total.Serious.Injuries          13969        15.461327\n",
       "25    Total.Minor.Injuries          13392        14.822686\n",
       "23    Total.Fatal.Injuries          12860        14.233851\n",
       "18             Engine.Type           8536         9.447913\n",
       "29           Report.Status           7840         8.677558"
      ]
     },
     "execution_count": 146,
     "metadata": {},
     "output_type": "execute_result"
    }
   ],
   "source": [
    "# Missing Values: Counts and Percentages\n",
    "missing = df.isnull().sum().reset_index()\n",
    "missing.columns = [\"Column\", \"Missing_Count\"]\n",
    "missing[\"Missing_Percent\"] = (missing[\"Missing_Count\"] / len(df)) * 100\n",
    "missing.sort_values(by=\"Missing_Percent\", ascending=False).head(15)"
   ]
  },
  {
   "cell_type": "code",
   "execution_count": 147,
   "metadata": {},
   "outputs": [
    {
     "name": "stdout",
     "output_type": "stream",
     "text": [
      "Relevant fields for analysis:\n",
      "['Make', 'Model', 'Injury.Severity', 'Weather.Condition', 'Broad.phase.of.flight', 'Purpose.of.flight', 'Event.Date', 'Country']\n"
     ]
    }
   ],
   "source": [
    "# Fields Relevant to Project Objectives\n",
    "relevant_fields = [\n",
    "    \"Make\",              # Aircraft manufacturer\n",
    "    \"Model\",             # Aircraft model\n",
    "    \"Injury.Severity\",   # Severity classification\n",
    "    \"Weather.Condition\", # VMC, IMC, UNK\n",
    "    \"Broad.phase.of.flight\", # Phase of flight\n",
    "    \"Purpose.of.flight\", # Flight purpose (commercial, personal, etc.)\n",
    "    \"Event.Date\",        # To analyze trends over time\n",
    "    \"Country\"            # For geographical context\n",
    "]\n",
    "\n",
    "print(\"Relevant fields for analysis:\")\n",
    "print(relevant_fields)"
   ]
  },
  {
   "cell_type": "code",
   "execution_count": 148,
   "metadata": {},
   "outputs": [
    {
     "data": {
      "image/png": "[encoded data removed]",
      "text/plain": [
       "<Figure size 720x360 with 1 Axes>"
      ]
     },
     "metadata": {
      "needs_background": "light"
     },
     "output_type": "display_data"
    }
   ],
   "source": [
    "# Top 10 columns by missing %\n",
    "missing_pct = (df.isnull().mean() * 100).sort_values(ascending=False).head(10)\n",
    "plt.figure(figsize=(10, 5))\n",
    "plt.barh(missing_pct.index, missing_pct.values)\n",
    "plt.xlabel(\"Missing (%)\")\n",
    "plt.title(\"Top 10 columns with most missing data\")\n",
    "plt.gca().invert_yaxis();"
   ]
  },
  {
   "cell_type": "markdown",
   "metadata": {},
   "source": [
    "The chart highlights that several key fields (like Schedule, Air.carrier, FAR Description and Aircraft Category) have very high missing percentages, which limits how deeply they can be used in analysis."
   ]
  },
  {
   "cell_type": "markdown",
   "metadata": {},
   "source": [
    "### 3. Data Preparation"
   ]
  },
  {
   "cell_type": "code",
   "execution_count": 149,
   "metadata": {},
   "outputs": [
    {
     "name": "stdout",
     "output_type": "stream",
     "text": [
      "Dropped columns: ['Air.carrier', 'Schedule', 'FAR.Description']\n"
     ]
    }
   ],
   "source": [
    "# Dropping irrelevant columns\n",
    "to_drop = [\"Air.carrier\", \"Schedule\", \"FAR.Description\"]\n",
    "drop_cols = [c for c in to_drop if c in df.columns]\n",
    "df.drop(columns=drop_cols, inplace=True, errors=\"ignore\")\n",
    "print(\"Dropped columns:\", drop_cols)"
   ]
  },
  {
   "cell_type": "code",
   "execution_count": 150,
   "metadata": {},
   "outputs": [
    {
     "name": "stdout",
     "output_type": "stream",
     "text": [
      "Duplicates\n",
      "Event.Id: 2396\n"
     ]
    }
   ],
   "source": [
    "# Check for duplicates by Event Id\n",
    "dup_event = df.duplicated(subset=[\"Event.Id\"]).sum()\n",
    "\n",
    "print(\"Duplicates\")\n",
    "print(f\"Event.Id: {dup_event}\")\n"
   ]
  },
  {
   "cell_type": "code",
   "execution_count": 151,
   "metadata": {},
   "outputs": [
    {
     "name": "stdout",
     "output_type": "stream",
     "text": [
      "After dropping duplicates by Event.Id: (87952, 28)\n"
     ]
    }
   ],
   "source": [
    "# Drop duplicate events by Event.Id\n",
    "df = df.drop_duplicates(subset=[\"Event.Id\"], keep=\"first\")\n",
    "print(\"After dropping duplicates by Event.Id:\", df.shape)"
   ]
  },
  {
   "cell_type": "code",
   "execution_count": 152,
   "metadata": {},
   "outputs": [
    {
     "data": {
      "text/plain": [
       "Event.Id                      1\n",
       "Accident.Number               1\n",
       "Event.Date                    1\n",
       "Location                     53\n",
       "Country                     223\n",
       "Latitude                  53740\n",
       "Longitude                 53749\n",
       "Airport.Code              38351\n",
       "Airport.Name              35835\n",
       "Injury.Severity             991\n",
       "Aircraft.damage            3104\n",
       "Aircraft.Category         55771\n",
       "Registration.Number        1286\n",
       "Make                         64\n",
       "Model                        93\n",
       "Amateur.Built               101\n",
       "Number.of.Engines          6028\n",
       "Engine.Type                7025\n",
       "Purpose.of.flight          6123\n",
       "Total.Fatal.Injuries      11268\n",
       "Total.Serious.Injuries    12323\n",
       "Total.Minor.Injuries      11761\n",
       "Total.Uninjured            5864\n",
       "Weather.Condition          4474\n",
       "Broad.phase.of.flight     27115\n",
       "Report.Status              6362\n",
       "Publication.Date          15058\n",
       "dtype: int64"
      ]
     },
     "execution_count": 152,
     "metadata": {},
     "output_type": "execute_result"
    }
   ],
   "source": [
    "# Show columns that still have missing values\n",
    "df.isnull().sum()[df.isnull().sum() > 0]"
   ]
  },
  {
   "cell_type": "code",
   "execution_count": 153,
   "metadata": {},
   "outputs": [
    {
     "data": {
      "image/png": "[encoded data removed]",
      "text/plain": [
       "<Figure size 864x432 with 1 Axes>"
      ]
     },
     "metadata": {
      "needs_background": "light"
     },
     "output_type": "display_data"
    }
   ],
   "source": [
    "# Missing values: simple matplotlib bar chart (only columns with NaNs)\n",
    "\n",
    "null_counts = df.isnull().sum()\n",
    "null_counts = null_counts[null_counts > 0].sort_values(ascending=True)\n",
    "\n",
    "plt.figure(figsize=(12, 6))\n",
    "null_counts.plot(kind=\"barh\")\n",
    "plt.title(\"Missing Values per Column\")\n",
    "plt.xlabel(\"Count of Missing Values\")\n",
    "plt.ylabel(\"Columns\");"
   ]
  },
  {
   "cell_type": "markdown",
   "metadata": {},
   "source": [
    "The chart shows that some columns (e.g., Aircraft.Category, Latitude/Longitude, and Airport details) have very high proportions of missing data. These variables may need to be dropped or carefully imputed, while columns with fewer gaps can be retained for analysis."
   ]
  },
  {
   "cell_type": "code",
   "execution_count": 154,
   "metadata": {},
   "outputs": [
    {
     "data": {
      "text/plain": [
       "0"
      ]
     },
     "execution_count": 154,
     "metadata": {},
     "output_type": "execute_result"
    }
   ],
   "source": [
    "# Count duplicates based on Event.Id\n",
    "df.duplicated(subset=[\"Event.Id\"]).sum()"
   ]
  },
  {
   "cell_type": "code",
   "execution_count": 155,
   "metadata": {},
   "outputs": [
    {
     "name": "stdout",
     "output_type": "stream",
     "text": [
      "['Latitude', 'Longitude', 'Airport.Code', 'Airport.Name', 'Publication.Date']\n"
     ]
    }
   ],
   "source": [
    "# Drop columns with too many missing values\n",
    "cols_to_drop = [\"Latitude\", \"Longitude\", \"Airport.Code\", \"Airport.Name\", \"Publication.Date\"]\n",
    "df = df.drop(columns=cols_to_drop)\n",
    "print(cols_to_drop)"
   ]
  },
  {
   "cell_type": "code",
   "execution_count": 156,
   "metadata": {},
   "outputs": [],
   "source": [
    "# Fill missing numeric values with 0\n",
    "num_cols = [\"Total.Fatal.Injuries\", \"Total.Serious.Injuries\", \n",
    "            \"Total.Minor.Injuries\", \"Total.Uninjured\", \"Number.of.Engines\"]\n",
    "df[num_cols] = df[num_cols].fillna(0)"
   ]
  },
  {
   "cell_type": "code",
   "execution_count": 157,
   "metadata": {},
   "outputs": [],
   "source": [
    "# Drop rows with critical missing IDs or Dates\n",
    "df = df.dropna(subset=[\"Event.Id\", \"Accident.Number\", \"Event.Date\"])"
   ]
  },
  {
   "cell_type": "code",
   "execution_count": 158,
   "metadata": {},
   "outputs": [],
   "source": [
    "# Fill missing categorical values with 'Unknown'\n",
    "cat_cols = [\"Location\", \"Country\", \"Injury.Severity\", \"Aircraft.damage\", \"Aircraft.Category\", \n",
    "            \"Registration.Number\", \"Make\", \"Model\", \"Amateur.Built\", \n",
    "            \"Engine.Type\", \"Purpose.of.flight\", \"Weather.Condition\", \n",
    "            \"Broad.phase.of.flight\", \"Report.Status\"]\n",
    "df[cat_cols] = df[cat_cols].fillna(\"UNKNOWN\")"
   ]
  },
  {
   "cell_type": "code",
   "execution_count": 159,
   "metadata": {},
   "outputs": [
    {
     "data": {
      "text/plain": [
       "Series([], dtype: int64)"
      ]
     },
     "execution_count": 159,
     "metadata": {},
     "output_type": "execute_result"
    }
   ],
   "source": [
    "# Recheck if any missing values remain\n",
    "df.isnull().sum()[df.isnull().sum() > 0]"
   ]
  },
  {
   "cell_type": "code",
   "execution_count": 160,
   "metadata": {},
   "outputs": [
    {
     "name": "stdout",
     "output_type": "stream",
     "text": [
      "Event.Date dtype: datetime64[ns]\n"
     ]
    }
   ],
   "source": [
    "# Data Formatting\n",
    "\n",
    "# Ensure Event.Date is datetime\n",
    "df[\"Event.Date\"] = pd.to_datetime(df[\"Event.Date\"], errors=\"coerce\")\n",
    "\n",
    "# Create a new column for the year\n",
    "df[\"Event.Year\"] = df[\"Event.Date\"].dt.year\n",
    "\n",
    "print(\"Event.Date dtype:\", df[\"Event.Date\"].dtype)"
   ]
  },
  {
   "cell_type": "code",
   "execution_count": 161,
   "metadata": {},
   "outputs": [
    {
     "data": {
      "text/plain": [
       "<StringArray>\n",
       "[ 'FATAL(2)',  'FATAL(4)',  'FATAL(3)',  'FATAL(1)', 'NON-FATAL',  'INCIDENT',\n",
       "  'FATAL(8)', 'FATAL(78)',  'FATAL(7)',  'FATAL(6)']\n",
       "Length: 10, dtype: string"
      ]
     },
     "execution_count": 161,
     "metadata": {},
     "output_type": "execute_result"
    }
   ],
   "source": [
    "# Categorical Standardization\n",
    "\n",
    "# Categorical Standardization (simple & safe)\n",
    "\n",
    "cat_cols = [\n",
    "    \"Investigation.Type\", \"Country\", \"Injury.Severity\",\n",
    "    \"Aircraft.damage\", \"Aircraft.Category\", \"Make\",\n",
    "    \"Model\", \"Amateur.Built\", \"Engine.Type\",\n",
    "    \"Purpose.of.flight\", \"Weather.Condition\",\n",
    "    \"Broad.phase.of.flight\", \"Report.Status\"\n",
    "]\n",
    "\n",
    "# 1) Use pandas StringDtype (keeps real NaN as <NA>, not \"nan\")\n",
    "for col in cat_cols:\n",
    "    df[col] = df[col].astype(\"string\").str.strip().str.upper()\n",
    "\n",
    "# 2) Normalize common placeholder tokens across ALL categorical columns\n",
    "placeholders = [\"\", \"N/A\", \"NA\", \"NONE\", \"NULL\", \"NAN\", \"-\", \"—\", \".\", \"UNK\"]\n",
    "for col in cat_cols:\n",
    "    df[col] = df[col].replace(placeholders, \"UNKNOWN\")\n",
    "\n",
    "# 3) Fill remaining missing with \"UNKNOWN\"\n",
    "df[cat_cols] = df[cat_cols].fillna(\"UNKNOWN\")\n",
    "\n",
    "df[\"Injury.Severity\"].unique()[:10]"
   ]
  },
  {
   "cell_type": "code",
   "execution_count": 162,
   "metadata": {},
   "outputs": [],
   "source": [
    "# Replace \"NAN\"/\"NONE\"/\"UNK\" type placeholders with \"UNKNOWN\"\n",
    "df[\"Weather.Condition\"] = df[\"Weather.Condition\"].replace({\"UNK\": \"UNKNOWN\"})\n",
    "\n",
    "# fill missing Purpose.of.flight with \"UNKNOWN\"\n",
    "df[\"Purpose.of.flight\"] = df[\"Purpose.of.flight\"].fillna(\"UNKNOWN\")\n",
    "\n",
    "# Fill missing Injury.Serverity with \"UNKNOWN\"\n",
    "df[\"Injury.Severity\"] = df[\"Injury.Severity\"].fillna(\"UNKNOWN\")"
   ]
  },
  {
   "cell_type": "code",
   "execution_count": 163,
   "metadata": {},
   "outputs": [
    {
     "name": "stdout",
     "output_type": "stream",
     "text": [
      "   Severity.Index Flight.Category  Event.Year\n",
      "0             6.0        PERSONAL        1948\n",
      "1            12.0        PERSONAL        1962\n",
      "2             9.0        PERSONAL        1974\n",
      "3             6.0        PERSONAL        1977\n",
      "4             7.0        PERSONAL        1979\n"
     ]
    }
   ],
   "source": [
    "# Feature Engineering\n",
    "\n",
    "# Create Serverity Index\n",
    "# Fatalities = weight 3, Serious = 2, Minor = 1\n",
    "df[\"Total.Fatal.Injuries\"] = pd.to_numeric(df[\"Total.Fatal.Injuries\"], errors=\"coerce\").fillna(0)\n",
    "df[\"Total.Serious.Injuries\"] = pd.to_numeric(df[\"Total.Serious.Injuries\"], errors=\"coerce\").fillna(0)\n",
    "df[\"Total.Minor.Injuries\"] = pd.to_numeric(df[\"Total.Minor.Injuries\"], errors=\"coerce\").fillna(0)\n",
    "\n",
    "df[\"Severity.Index\"] = (\n",
    "    df[\"Total.Fatal.Injuries\"] * 3 +\n",
    "    df[\"Total.Serious.Injuries\"] * 2 +\n",
    "    df[\"Total.Minor.Injuries\"] * 1\n",
    ")\n",
    "\n",
    "# Categorize flights: Commercial vs personal\n",
    "df[\"Flight.Category\"] = np.where(\n",
    "    df[\"Purpose.of.flight\"].str.contains(\"COMMERCIAL|AIR TAXI|BUSINESS\", case=False, na=False),\n",
    "    \"COMMERCIAL\",\n",
    "    \"PERSONAL\"\n",
    ")\n",
    "\n",
    "print(df[[\"Severity.Index\", \"Flight.Category\", \"Event.Year\"]].head())"
   ]
  },
  {
   "cell_type": "code",
   "execution_count": 164,
   "metadata": {},
   "outputs": [
    {
     "data": {
      "text/plain": [
       "Event.Id                  0\n",
       "Investigation.Type        0\n",
       "Accident.Number           0\n",
       "Event.Date                0\n",
       "Location                  0\n",
       "Country                   0\n",
       "Injury.Severity           0\n",
       "Aircraft.damage           0\n",
       "Aircraft.Category         0\n",
       "Registration.Number       0\n",
       "Make                      0\n",
       "Model                     0\n",
       "Amateur.Built             0\n",
       "Number.of.Engines         0\n",
       "Engine.Type               0\n",
       "Purpose.of.flight         0\n",
       "Total.Fatal.Injuries      0\n",
       "Total.Serious.Injuries    0\n",
       "Total.Minor.Injuries      0\n",
       "Total.Uninjured           0\n",
       "Weather.Condition         0\n",
       "Broad.phase.of.flight     0\n",
       "Report.Status             0\n",
       "Event.Year                0\n",
       "Severity.Index            0\n",
       "Flight.Category           0\n",
       "dtype: int64"
      ]
     },
     "execution_count": 164,
     "metadata": {},
     "output_type": "execute_result"
    }
   ],
   "source": [
    "# Recheck if any missing values remain\n",
    "df.isnull().sum()"
   ]
  },
  {
   "cell_type": "code",
   "execution_count": 166,
   "metadata": {},
   "outputs": [
    {
     "data": {
      "text/plain": [
       "(87951, 26)"
      ]
     },
     "execution_count": 166,
     "metadata": {},
     "output_type": "execute_result"
    }
   ],
   "source": [
    "df.shape"
   ]
  },
  {
   "cell_type": "code",
   "execution_count": 165,
   "metadata": {},
   "outputs": [],
   "source": [
    "df.to_csv(\"cleaned_aviation.csv\", index=False)"
   ]
  },
  {
   "cell_type": "markdown",
   "metadata": {},
   "source": [
    "### 4. Exploratory Data Analysis (EDA)"
   ]
  },
  {
   "cell_type": "code",
   "execution_count": 173,
   "metadata": {},
   "outputs": [
    {
     "data": {
      "text/html": [
       "<div>\n",
       "<style scoped>\n",
       "    .dataframe tbody tr th:only-of-type {\n",
       "        vertical-align: middle;\n",
       "    }\n",
       "\n",
       "    .dataframe tbody tr th {\n",
       "        vertical-align: top;\n",
       "    }\n",
       "\n",
       "    .dataframe thead th {\n",
       "        text-align: right;\n",
       "    }\n",
       "</style>\n",
       "<table border=\"1\" class=\"dataframe\">\n",
       "  <thead>\n",
       "    <tr style=\"text-align: right;\">\n",
       "      <th></th>\n",
       "      <th>Year_Min</th>\n",
       "      <th>Year_Max</th>\n",
       "      <th>Row_Count</th>\n",
       "    </tr>\n",
       "  </thead>\n",
       "  <tbody>\n",
       "    <tr>\n",
       "      <th>0</th>\n",
       "      <td>1948</td>\n",
       "      <td>2022</td>\n",
       "      <td>87951</td>\n",
       "    </tr>\n",
       "  </tbody>\n",
       "</table>\n",
       "</div>"
      ],
      "text/plain": [
       "   Year_Min  Year_Max  Row_Count\n",
       "0      1948      2022      87951"
      ]
     },
     "execution_count": 173,
     "metadata": {},
     "output_type": "execute_result"
    }
   ],
   "source": [
    "# coverage table\n",
    "coverage = pd.DataFrame({\n",
    "    \"Year_Min\": [int(df[\"Event.Year\"].min())],\n",
    "    \"Year_Max\": [int(df[\"Event.Year\"].max())],\n",
    "    \"Row_Count\": [len(df)]\n",
    "})\n",
    "\n",
    "coverage"
   ]
  },
  {
   "cell_type": "code",
   "execution_count": 176,
   "metadata": {},
   "outputs": [
    {
     "data": {
      "image/png": "[encoded data removed]",
      "text/plain": [
       "<Figure size 864x360 with 1 Axes>"
      ]
     },
     "metadata": {
      "needs_background": "light"
     },
     "output_type": "display_data"
    }
   ],
   "source": [
    "# Accidents per year (simple bar plot)\n",
    "year_counts = df[\"Event.Year\"].value_counts().sort_index()\n",
    "\n",
    "plt.figure(figsize=(12,5))\n",
    "plt.plot(year_counts.index, year_counts.values)\n",
    "plt.title(\"Accidents per Year\")\n",
    "plt.xlabel(\"Year\")\n",
    "plt.ylabel(\"Count\");"
   ]
  },
  {
   "cell_type": "markdown",
   "metadata": {},
   "source": [
    "Annual record accidents peak in the early 1980s, then trend downward through 2022—consistent with long-term safety improvements. Near-zeros before ~1981 likely reflect missing/uncoded dates rather than true absence of events (counts based on *Event.Year*).\n"
   ]
  },
  {
   "cell_type": "code",
   "execution_count": 178,
   "metadata": {},
   "outputs": [
    {
     "data": {
      "image/png": "[encoded data removed]",
      "text/plain": [
       "<Figure size 864x432 with 1 Axes>"
      ]
     },
     "metadata": {
      "needs_background": "light"
     },
     "output_type": "display_data"
    }
   ],
   "source": [
    "# Top 10 aircraft MAKES by accident count \n",
    "make_counts = df[\"Make\"].value_counts().head(10)\n",
    "\n",
    "plt.figure(figsize=(12,6))\n",
    "make_counts.plot(kind=\"bar\", color=\"tab:orange\")\n",
    "plt.title(\"Top 10 Aircraft Makes by Accident Count\")\n",
    "plt.xlabel(\"Make\")\n",
    "plt.ylabel(\"Count\");"
   ]
  },
  {
   "cell_type": "markdown",
   "metadata": {},
   "source": [
    "Cessna and Piper account for the majority of recorded accidents, reflecting their widespread use in general aviation and training fleets. Other manufacturers such as Beech, Bell, Boeing, and Mooney contribute smaller shares, with helicopters and light aircraft also represented in the top 10."
   ]
  },
  {
   "cell_type": "code",
   "execution_count": 180,
   "metadata": {},
   "outputs": [
    {
     "data": {
      "image/png": "[encoded data removed]",
      "text/plain": [
       "<Figure size 864x432 with 1 Axes>"
      ]
     },
     "metadata": {
      "needs_background": "light"
     },
     "output_type": "display_data"
    }
   ],
   "source": [
    "# Top 10 aircraft MODELS by accident count\n",
    "model_counts = df[\"Model\"].value_counts().head(10)\n",
    "\n",
    "plt.figure(figsize=(12,6))\n",
    "model_counts.plot(kind=\"bar\", color=\"tab:green\")\n",
    "plt.title(\"Top 10 Aircraft Models by Accident Count\")\n",
    "plt.xlabel(\"Model\")\n",
    "plt.ylabel(\"Count\");"
   ]
  },
  {
   "cell_type": "markdown",
   "metadata": {},
   "source": [
    "The Cessna 152 and 172 dominate raw accident counts, followed by other high-volume training and GA types (e.g., 172N, PA-28-140). These are frequency counts, not risk rates—interpret alongside exposure (fleet size/flight hours) before drawing safety conclusions."
   ]
  },
  {
   "cell_type": "code",
   "execution_count": 182,
   "metadata": {},
   "outputs": [
    {
     "name": "stdout",
     "output_type": "stream",
     "text": [
      "Counts of Injury.Severity categories:\n",
      "NON-FATAL     66822\n",
      "FATAL(1)       6086\n",
      "FATAL          5257\n",
      "FATAL(2)       3632\n",
      "INCIDENT       2113\n",
      "              ...  \n",
      "FATAL(88)         1\n",
      "FATAL(229)        1\n",
      "FATAL(228)        1\n",
      "FATAL(60)         1\n",
      "FATAL(230)        1\n",
      "Name: Injury.Severity, Length: 110, dtype: Int64\n",
      "\n",
      "Severity.Index summary stats:\n",
      "count    87951.000000\n",
      "mean         2.448170\n",
      "std         15.755347\n",
      "min          0.000000\n",
      "25%          0.000000\n",
      "50%          0.000000\n",
      "75%          3.000000\n",
      "max       1047.000000\n",
      "Name: Severity.Index, dtype: float64\n"
     ]
    }
   ],
   "source": [
    "# Severity overview\n",
    "# 1) Counts of Injury.Severity categories\n",
    "print(\"Counts of Injury.Severity categories:\")\n",
    "print(df[\"Injury.Severity\"].value_counts())\n",
    "\n",
    "# 2) Summary statistics for Severity.Index\n",
    "print(\"\\nSeverity.Index summary stats:\")\n",
    "print(df[\"Severity.Index\"].describe())"
   ]
  },
  {
   "cell_type": "code",
   "execution_count": 187,
   "metadata": {},
   "outputs": [
    {
     "name": "stdout",
     "output_type": "stream",
     "text": [
      "\n",
      "=== Purpose.of.flight ===\n"
     ]
    },
    {
     "data": {
      "text/html": [
       "<div>\n",
       "<style scoped>\n",
       "    .dataframe tbody tr th:only-of-type {\n",
       "        vertical-align: middle;\n",
       "    }\n",
       "\n",
       "    .dataframe tbody tr th {\n",
       "        vertical-align: top;\n",
       "    }\n",
       "\n",
       "    .dataframe thead th {\n",
       "        text-align: right;\n",
       "    }\n",
       "</style>\n",
       "<table border=\"1\" class=\"dataframe\">\n",
       "  <thead>\n",
       "    <tr style=\"text-align: right;\">\n",
       "      <th></th>\n",
       "      <th>Count</th>\n",
       "      <th>Percent</th>\n",
       "    </tr>\n",
       "  </thead>\n",
       "  <tbody>\n",
       "    <tr>\n",
       "      <th>PERSONAL</th>\n",
       "      <td>49076</td>\n",
       "      <td>55.80</td>\n",
       "    </tr>\n",
       "    <tr>\n",
       "      <th>UNKNOWN</th>\n",
       "      <td>12731</td>\n",
       "      <td>14.48</td>\n",
       "    </tr>\n",
       "    <tr>\n",
       "      <th>INSTRUCTIONAL</th>\n",
       "      <td>10442</td>\n",
       "      <td>11.87</td>\n",
       "    </tr>\n",
       "    <tr>\n",
       "      <th>AERIAL APPLICATION</th>\n",
       "      <td>4686</td>\n",
       "      <td>5.33</td>\n",
       "    </tr>\n",
       "    <tr>\n",
       "      <th>BUSINESS</th>\n",
       "      <td>3971</td>\n",
       "      <td>4.52</td>\n",
       "    </tr>\n",
       "    <tr>\n",
       "      <th>POSITIONING</th>\n",
       "      <td>1632</td>\n",
       "      <td>1.86</td>\n",
       "    </tr>\n",
       "    <tr>\n",
       "      <th>OTHER WORK USE</th>\n",
       "      <td>1250</td>\n",
       "      <td>1.42</td>\n",
       "    </tr>\n",
       "    <tr>\n",
       "      <th>FERRY</th>\n",
       "      <td>806</td>\n",
       "      <td>0.92</td>\n",
       "    </tr>\n",
       "    <tr>\n",
       "      <th>AERIAL OBSERVATION</th>\n",
       "      <td>787</td>\n",
       "      <td>0.89</td>\n",
       "    </tr>\n",
       "    <tr>\n",
       "      <th>PUBLIC AIRCRAFT</th>\n",
       "      <td>710</td>\n",
       "      <td>0.81</td>\n",
       "    </tr>\n",
       "  </tbody>\n",
       "</table>\n",
       "</div>"
      ],
      "text/plain": [
       "                    Count  Percent\n",
       "PERSONAL            49076    55.80\n",
       "UNKNOWN             12731    14.48\n",
       "INSTRUCTIONAL       10442    11.87\n",
       "AERIAL APPLICATION   4686     5.33\n",
       "BUSINESS             3971     4.52\n",
       "POSITIONING          1632     1.86\n",
       "OTHER WORK USE       1250     1.42\n",
       "FERRY                 806     0.92\n",
       "AERIAL OBSERVATION    787     0.89\n",
       "PUBLIC AIRCRAFT       710     0.81"
      ]
     },
     "metadata": {},
     "output_type": "display_data"
    },
    {
     "name": "stdout",
     "output_type": "stream",
     "text": [
      "\n",
      "=== Broad.phase.of.flight ===\n"
     ]
    },
    {
     "data": {
      "text/html": [
       "<div>\n",
       "<style scoped>\n",
       "    .dataframe tbody tr th:only-of-type {\n",
       "        vertical-align: middle;\n",
       "    }\n",
       "\n",
       "    .dataframe tbody tr th {\n",
       "        vertical-align: top;\n",
       "    }\n",
       "\n",
       "    .dataframe thead th {\n",
       "        text-align: right;\n",
       "    }\n",
       "</style>\n",
       "<table border=\"1\" class=\"dataframe\">\n",
       "  <thead>\n",
       "    <tr style=\"text-align: right;\">\n",
       "      <th></th>\n",
       "      <th>Count</th>\n",
       "      <th>Percent</th>\n",
       "    </tr>\n",
       "  </thead>\n",
       "  <tbody>\n",
       "    <tr>\n",
       "      <th>UNKNOWN</th>\n",
       "      <td>27661</td>\n",
       "      <td>31.45</td>\n",
       "    </tr>\n",
       "    <tr>\n",
       "      <th>LANDING</th>\n",
       "      <td>15320</td>\n",
       "      <td>17.42</td>\n",
       "    </tr>\n",
       "    <tr>\n",
       "      <th>TAKEOFF</th>\n",
       "      <td>12404</td>\n",
       "      <td>14.10</td>\n",
       "    </tr>\n",
       "    <tr>\n",
       "      <th>CRUISE</th>\n",
       "      <td>10141</td>\n",
       "      <td>11.53</td>\n",
       "    </tr>\n",
       "    <tr>\n",
       "      <th>MANEUVERING</th>\n",
       "      <td>8052</td>\n",
       "      <td>9.16</td>\n",
       "    </tr>\n",
       "    <tr>\n",
       "      <th>APPROACH</th>\n",
       "      <td>6389</td>\n",
       "      <td>7.26</td>\n",
       "    </tr>\n",
       "    <tr>\n",
       "      <th>CLIMB</th>\n",
       "      <td>1995</td>\n",
       "      <td>2.27</td>\n",
       "    </tr>\n",
       "    <tr>\n",
       "      <th>DESCENT</th>\n",
       "      <td>1870</td>\n",
       "      <td>2.13</td>\n",
       "    </tr>\n",
       "    <tr>\n",
       "      <th>TAXI</th>\n",
       "      <td>1786</td>\n",
       "      <td>2.03</td>\n",
       "    </tr>\n",
       "    <tr>\n",
       "      <th>GO-AROUND</th>\n",
       "      <td>1345</td>\n",
       "      <td>1.53</td>\n",
       "    </tr>\n",
       "  </tbody>\n",
       "</table>\n",
       "</div>"
      ],
      "text/plain": [
       "             Count  Percent\n",
       "UNKNOWN      27661    31.45\n",
       "LANDING      15320    17.42\n",
       "TAKEOFF      12404    14.10\n",
       "CRUISE       10141    11.53\n",
       "MANEUVERING   8052     9.16\n",
       "APPROACH      6389     7.26\n",
       "CLIMB         1995     2.27\n",
       "DESCENT       1870     2.13\n",
       "TAXI          1786     2.03\n",
       "GO-AROUND     1345     1.53"
      ]
     },
     "metadata": {},
     "output_type": "display_data"
    },
    {
     "name": "stdout",
     "output_type": "stream",
     "text": [
      "\n",
      "=== Weather.Condition ===\n"
     ]
    },
    {
     "data": {
      "text/html": [
       "<div>\n",
       "<style scoped>\n",
       "    .dataframe tbody tr th:only-of-type {\n",
       "        vertical-align: middle;\n",
       "    }\n",
       "\n",
       "    .dataframe tbody tr th {\n",
       "        vertical-align: top;\n",
       "    }\n",
       "\n",
       "    .dataframe thead th {\n",
       "        text-align: right;\n",
       "    }\n",
       "</style>\n",
       "<table border=\"1\" class=\"dataframe\">\n",
       "  <thead>\n",
       "    <tr style=\"text-align: right;\">\n",
       "      <th></th>\n",
       "      <th>Count</th>\n",
       "      <th>Percent</th>\n",
       "    </tr>\n",
       "  </thead>\n",
       "  <tbody>\n",
       "    <tr>\n",
       "      <th>VMC</th>\n",
       "      <td>76417</td>\n",
       "      <td>86.89</td>\n",
       "    </tr>\n",
       "    <tr>\n",
       "      <th>IMC</th>\n",
       "      <td>5949</td>\n",
       "      <td>6.76</td>\n",
       "    </tr>\n",
       "    <tr>\n",
       "      <th>UNKNOWN</th>\n",
       "      <td>5585</td>\n",
       "      <td>6.35</td>\n",
       "    </tr>\n",
       "  </tbody>\n",
       "</table>\n",
       "</div>"
      ],
      "text/plain": [
       "         Count  Percent\n",
       "VMC      76417    86.89\n",
       "IMC       5949     6.76\n",
       "UNKNOWN   5585     6.35"
      ]
     },
     "metadata": {},
     "output_type": "display_data"
    }
   ],
   "source": [
    "# Operational & Environmental Factors\n",
    "factors = [\"Purpose.of.flight\", \"Broad.phase.of.flight\", \"Weather.Condition\"]\n",
    "\n",
    "summary_tables = {}\n",
    "for col in factors:\n",
    "    counts = df[col].value_counts().head(10)  # top 10 categories if many\n",
    "    percents = round((counts / len(df)) * 100, 2)\n",
    "    summary_tables[col] = pd.DataFrame({\n",
    "        \"Count\": counts,\n",
    "        \"Percent\": percents\n",
    "    })\n",
    "\n",
    "for col, table in summary_tables.items():\n",
    "    print(f\"\\n=== {col} ===\")\n",
    "    display(table)\n"
   ]
  },
  {
   "cell_type": "markdown",
   "metadata": {},
   "source": [
    "Most accidents occurred during landing (17.4%) and takeoff (14.1%), though a large share is coded as unknown (31.5%). The majority happened in visual conditions (VMC, 86.9%), with only 6.8% in IMC. In terms of purpose, over half were personal flights (55.8%), followed by instructional (11.9%) and aerial application (5.3%)."
   ]
  },
  {
   "cell_type": "markdown",
   "metadata": {},
   "source": [
    "### 5. Objective-Driven Analysis"
   ]
  },
  {
   "cell_type": "code",
   "execution_count": 189,
   "metadata": {},
   "outputs": [
    {
     "name": "stdout",
     "output_type": "stream",
     "text": [
      "Top 10 Lowest-Risk Aircraft Models (by severity & fatality rate):\n"
     ]
    },
    {
     "data": {
      "text/html": [
       "<div>\n",
       "<style scoped>\n",
       "    .dataframe tbody tr th:only-of-type {\n",
       "        vertical-align: middle;\n",
       "    }\n",
       "\n",
       "    .dataframe tbody tr th {\n",
       "        vertical-align: top;\n",
       "    }\n",
       "\n",
       "    .dataframe thead th {\n",
       "        text-align: right;\n",
       "    }\n",
       "</style>\n",
       "<table border=\"1\" class=\"dataframe\">\n",
       "  <thead>\n",
       "    <tr style=\"text-align: right;\">\n",
       "      <th></th>\n",
       "      <th>accidents</th>\n",
       "      <th>total_fatalities</th>\n",
       "      <th>avg_severity</th>\n",
       "      <th>fatality_rate</th>\n",
       "    </tr>\n",
       "    <tr>\n",
       "      <th>Model</th>\n",
       "      <th></th>\n",
       "      <th></th>\n",
       "      <th></th>\n",
       "      <th></th>\n",
       "    </tr>\n",
       "  </thead>\n",
       "  <tbody>\n",
       "    <tr>\n",
       "      <th>737-800</th>\n",
       "      <td>32</td>\n",
       "      <td>0.0</td>\n",
       "      <td>0.187500</td>\n",
       "      <td>0.000000</td>\n",
       "    </tr>\n",
       "    <tr>\n",
       "      <th>G164B</th>\n",
       "      <td>31</td>\n",
       "      <td>1.0</td>\n",
       "      <td>0.258065</td>\n",
       "      <td>0.032258</td>\n",
       "    </tr>\n",
       "    <tr>\n",
       "      <th>DW-1</th>\n",
       "      <td>39</td>\n",
       "      <td>1.0</td>\n",
       "      <td>0.333333</td>\n",
       "      <td>0.025641</td>\n",
       "    </tr>\n",
       "    <tr>\n",
       "      <th>PA-18-160</th>\n",
       "      <td>31</td>\n",
       "      <td>1.0</td>\n",
       "      <td>0.354839</td>\n",
       "      <td>0.032258</td>\n",
       "    </tr>\n",
       "    <tr>\n",
       "      <th>PA 12</th>\n",
       "      <td>37</td>\n",
       "      <td>2.0</td>\n",
       "      <td>0.378378</td>\n",
       "      <td>0.054054</td>\n",
       "    </tr>\n",
       "    <tr>\n",
       "      <th>E75</th>\n",
       "      <td>45</td>\n",
       "      <td>2.0</td>\n",
       "      <td>0.422222</td>\n",
       "      <td>0.044444</td>\n",
       "    </tr>\n",
       "    <tr>\n",
       "      <th>SPORTSTAR</th>\n",
       "      <td>30</td>\n",
       "      <td>3.0</td>\n",
       "      <td>0.433333</td>\n",
       "      <td>0.100000</td>\n",
       "    </tr>\n",
       "    <tr>\n",
       "      <th>G-164A</th>\n",
       "      <td>456</td>\n",
       "      <td>20.0</td>\n",
       "      <td>0.442982</td>\n",
       "      <td>0.043860</td>\n",
       "    </tr>\n",
       "    <tr>\n",
       "      <th>KITFOX III</th>\n",
       "      <td>27</td>\n",
       "      <td>2.0</td>\n",
       "      <td>0.481481</td>\n",
       "      <td>0.074074</td>\n",
       "    </tr>\n",
       "    <tr>\n",
       "      <th>M-5-210C</th>\n",
       "      <td>29</td>\n",
       "      <td>4.0</td>\n",
       "      <td>0.517241</td>\n",
       "      <td>0.137931</td>\n",
       "    </tr>\n",
       "  </tbody>\n",
       "</table>\n",
       "</div>"
      ],
      "text/plain": [
       "            accidents  total_fatalities  avg_severity  fatality_rate\n",
       "Model                                                               \n",
       "737-800            32               0.0      0.187500       0.000000\n",
       "G164B              31               1.0      0.258065       0.032258\n",
       "DW-1               39               1.0      0.333333       0.025641\n",
       "PA-18-160          31               1.0      0.354839       0.032258\n",
       "PA 12              37               2.0      0.378378       0.054054\n",
       "E75                45               2.0      0.422222       0.044444\n",
       "SPORTSTAR          30               3.0      0.433333       0.100000\n",
       "G-164A            456              20.0      0.442982       0.043860\n",
       "KITFOX III         27               2.0      0.481481       0.074074\n",
       "M-5-210C           29               4.0      0.517241       0.137931"
      ]
     },
     "execution_count": 189,
     "metadata": {},
     "output_type": "execute_result"
    }
   ],
   "source": [
    "# Aircraft models with lowest risk\n",
    "\n",
    "# Group by aircraft model\n",
    "model_stats = df.groupby(\"Model\").agg(\n",
    "    accidents=(\"Event.Id\", \"count\"),\n",
    "    total_fatalities=(\"Total.Fatal.Injuries\", \"sum\"),\n",
    "    avg_severity=(\"Severity.Index\", \"mean\")\n",
    ")\n",
    "\n",
    "# Fatality proportion = total fatalities / total accidents\n",
    "model_stats[\"fatality_rate\"] = model_stats[\"total_fatalities\"] / model_stats[\"accidents\"]\n",
    "\n",
    "# Filter models with enough data (e.g., at least 20 accidents to avoid one-offs)\n",
    "model_stats = model_stats[model_stats[\"accidents\"] >= 20]\n",
    "\n",
    "# Rank models by severity and fatality_rate\n",
    "low_risk_models = model_stats.sort_values(\n",
    "    by=[\"avg_severity\", \"fatality_rate\", \"accidents\"],\n",
    "    ascending=[True, True, False]\n",
    ").head(10)\n",
    "\n",
    "print(\"Top 10 Lowest-Risk Aircraft Models (by severity & fatality rate):\")\n",
    "low_risk_models"
   ]
  },
  {
   "cell_type": "markdown",
   "metadata": {},
   "source": [
    "The lowest-risk models show consistently low severity and fatality rates, with the 737-800 standing out for having zero recorded fatalities across 32 accidents. Other light aircraft such as the G164B, PA-18-160, and DW-1 also maintain low fatality rates (<0.04), while models like the SPORTSTAR, KITFOX III, and M-5-210C exhibit slightly higher rates but remain well below average."
   ]
  },
  {
   "cell_type": "code",
   "execution_count": 194,
   "metadata": {},
   "outputs": [
    {
     "name": "stdout",
     "output_type": "stream",
     "text": [
      "\n",
      " Risk Profile by Weather.Condition\n"
     ]
    },
    {
     "data": {
      "text/html": [
       "<div>\n",
       "<style scoped>\n",
       "    .dataframe tbody tr th:only-of-type {\n",
       "        vertical-align: middle;\n",
       "    }\n",
       "\n",
       "    .dataframe tbody tr th {\n",
       "        vertical-align: top;\n",
       "    }\n",
       "\n",
       "    .dataframe thead th {\n",
       "        text-align: right;\n",
       "    }\n",
       "</style>\n",
       "<table border=\"1\" class=\"dataframe\">\n",
       "  <thead>\n",
       "    <tr style=\"text-align: right;\">\n",
       "      <th></th>\n",
       "      <th>accidents</th>\n",
       "      <th>fatalities</th>\n",
       "      <th>avg_severity</th>\n",
       "      <th>fatality_rate</th>\n",
       "    </tr>\n",
       "    <tr>\n",
       "      <th>Weather.Condition</th>\n",
       "      <th></th>\n",
       "      <th></th>\n",
       "      <th></th>\n",
       "      <th></th>\n",
       "    </tr>\n",
       "  </thead>\n",
       "  <tbody>\n",
       "    <tr>\n",
       "      <th>UNKNOWN</th>\n",
       "      <td>5585</td>\n",
       "      <td>12384.0</td>\n",
       "      <td>7.607341</td>\n",
       "      <td>2.217368</td>\n",
       "    </tr>\n",
       "    <tr>\n",
       "      <th>IMC</th>\n",
       "      <td>5949</td>\n",
       "      <td>11540.0</td>\n",
       "      <td>6.988906</td>\n",
       "      <td>1.939822</td>\n",
       "    </tr>\n",
       "    <tr>\n",
       "      <th>VMC</th>\n",
       "      <td>76417</td>\n",
       "      <td>24662.0</td>\n",
       "      <td>1.717615</td>\n",
       "      <td>0.322729</td>\n",
       "    </tr>\n",
       "  </tbody>\n",
       "</table>\n",
       "</div>"
      ],
      "text/plain": [
       "                   accidents  fatalities  avg_severity  fatality_rate\n",
       "Weather.Condition                                                    \n",
       "UNKNOWN                 5585     12384.0      7.607341       2.217368\n",
       "IMC                     5949     11540.0      6.988906       1.939822\n",
       "VMC                    76417     24662.0      1.717615       0.322729"
      ]
     },
     "metadata": {},
     "output_type": "display_data"
    },
    {
     "name": "stdout",
     "output_type": "stream",
     "text": [
      "\n",
      " Risk Profile by Broad.phase.of.flight\n"
     ]
    },
    {
     "data": {
      "text/html": [
       "<div>\n",
       "<style scoped>\n",
       "    .dataframe tbody tr th:only-of-type {\n",
       "        vertical-align: middle;\n",
       "    }\n",
       "\n",
       "    .dataframe tbody tr th {\n",
       "        vertical-align: top;\n",
       "    }\n",
       "\n",
       "    .dataframe thead th {\n",
       "        text-align: right;\n",
       "    }\n",
       "</style>\n",
       "<table border=\"1\" class=\"dataframe\">\n",
       "  <thead>\n",
       "    <tr style=\"text-align: right;\">\n",
       "      <th></th>\n",
       "      <th>accidents</th>\n",
       "      <th>fatalities</th>\n",
       "      <th>avg_severity</th>\n",
       "      <th>fatality_rate</th>\n",
       "    </tr>\n",
       "    <tr>\n",
       "      <th>Broad.phase.of.flight</th>\n",
       "      <th></th>\n",
       "      <th></th>\n",
       "      <th></th>\n",
       "      <th></th>\n",
       "    </tr>\n",
       "  </thead>\n",
       "  <tbody>\n",
       "    <tr>\n",
       "      <th>UNKNOWN</th>\n",
       "      <td>27661</td>\n",
       "      <td>25655.0</td>\n",
       "      <td>3.689129</td>\n",
       "      <td>0.927479</td>\n",
       "    </tr>\n",
       "    <tr>\n",
       "      <th>CLIMB</th>\n",
       "      <td>1995</td>\n",
       "      <td>1678.0</td>\n",
       "      <td>3.597494</td>\n",
       "      <td>0.841103</td>\n",
       "    </tr>\n",
       "    <tr>\n",
       "      <th>APPROACH</th>\n",
       "      <td>6389</td>\n",
       "      <td>3672.0</td>\n",
       "      <td>2.693379</td>\n",
       "      <td>0.574738</td>\n",
       "    </tr>\n",
       "    <tr>\n",
       "      <th>MANEUVERING</th>\n",
       "      <td>8052</td>\n",
       "      <td>5169.0</td>\n",
       "      <td>2.640462</td>\n",
       "      <td>0.641952</td>\n",
       "    </tr>\n",
       "    <tr>\n",
       "      <th>CRUISE</th>\n",
       "      <td>10141</td>\n",
       "      <td>5956.0</td>\n",
       "      <td>2.633567</td>\n",
       "      <td>0.587319</td>\n",
       "    </tr>\n",
       "    <tr>\n",
       "      <th>OTHER</th>\n",
       "      <td>116</td>\n",
       "      <td>82.0</td>\n",
       "      <td>2.517241</td>\n",
       "      <td>0.706897</td>\n",
       "    </tr>\n",
       "    <tr>\n",
       "      <th>DESCENT</th>\n",
       "      <td>1870</td>\n",
       "      <td>821.0</td>\n",
       "      <td>2.349733</td>\n",
       "      <td>0.439037</td>\n",
       "    </tr>\n",
       "    <tr>\n",
       "      <th>GO-AROUND</th>\n",
       "      <td>1345</td>\n",
       "      <td>581.0</td>\n",
       "      <td>2.333829</td>\n",
       "      <td>0.431970</td>\n",
       "    </tr>\n",
       "    <tr>\n",
       "      <th>TAKEOFF</th>\n",
       "      <td>12404</td>\n",
       "      <td>4259.0</td>\n",
       "      <td>1.925830</td>\n",
       "      <td>0.343357</td>\n",
       "    </tr>\n",
       "    <tr>\n",
       "      <th>STANDING</th>\n",
       "      <td>872</td>\n",
       "      <td>155.0</td>\n",
       "      <td>1.514908</td>\n",
       "      <td>0.177752</td>\n",
       "    </tr>\n",
       "  </tbody>\n",
       "</table>\n",
       "</div>"
      ],
      "text/plain": [
       "                       accidents  fatalities  avg_severity  fatality_rate\n",
       "Broad.phase.of.flight                                                    \n",
       "UNKNOWN                    27661     25655.0      3.689129       0.927479\n",
       "CLIMB                       1995      1678.0      3.597494       0.841103\n",
       "APPROACH                    6389      3672.0      2.693379       0.574738\n",
       "MANEUVERING                 8052      5169.0      2.640462       0.641952\n",
       "CRUISE                     10141      5956.0      2.633567       0.587319\n",
       "OTHER                        116        82.0      2.517241       0.706897\n",
       "DESCENT                     1870       821.0      2.349733       0.439037\n",
       "GO-AROUND                   1345       581.0      2.333829       0.431970\n",
       "TAKEOFF                    12404      4259.0      1.925830       0.343357\n",
       "STANDING                     872       155.0      1.514908       0.177752"
      ]
     },
     "metadata": {},
     "output_type": "display_data"
    },
    {
     "name": "stdout",
     "output_type": "stream",
     "text": [
      "\n",
      " Risk Profile by Purpose.of.flight\n"
     ]
    },
    {
     "data": {
      "text/html": [
       "<div>\n",
       "<style scoped>\n",
       "    .dataframe tbody tr th:only-of-type {\n",
       "        vertical-align: middle;\n",
       "    }\n",
       "\n",
       "    .dataframe tbody tr th {\n",
       "        vertical-align: top;\n",
       "    }\n",
       "\n",
       "    .dataframe thead th {\n",
       "        text-align: right;\n",
       "    }\n",
       "</style>\n",
       "<table border=\"1\" class=\"dataframe\">\n",
       "  <thead>\n",
       "    <tr style=\"text-align: right;\">\n",
       "      <th></th>\n",
       "      <th>accidents</th>\n",
       "      <th>fatalities</th>\n",
       "      <th>avg_severity</th>\n",
       "      <th>fatality_rate</th>\n",
       "    </tr>\n",
       "    <tr>\n",
       "      <th>Purpose.of.flight</th>\n",
       "      <th></th>\n",
       "      <th></th>\n",
       "      <th></th>\n",
       "      <th></th>\n",
       "    </tr>\n",
       "  </thead>\n",
       "  <tbody>\n",
       "    <tr>\n",
       "      <th>UNKNOWN</th>\n",
       "      <td>12731</td>\n",
       "      <td>22064.0</td>\n",
       "      <td>6.774645</td>\n",
       "      <td>1.733092</td>\n",
       "    </tr>\n",
       "    <tr>\n",
       "      <th>ASHO</th>\n",
       "      <td>5</td>\n",
       "      <td>8.0</td>\n",
       "      <td>5.200000</td>\n",
       "      <td>1.600000</td>\n",
       "    </tr>\n",
       "    <tr>\n",
       "      <th>SKYDIVING</th>\n",
       "      <td>181</td>\n",
       "      <td>227.0</td>\n",
       "      <td>5.071823</td>\n",
       "      <td>1.254144</td>\n",
       "    </tr>\n",
       "    <tr>\n",
       "      <th>EXECUTIVE/CORPORATE</th>\n",
       "      <td>542</td>\n",
       "      <td>569.0</td>\n",
       "      <td>3.990775</td>\n",
       "      <td>1.049815</td>\n",
       "    </tr>\n",
       "    <tr>\n",
       "      <th>AIR DROP</th>\n",
       "      <td>11</td>\n",
       "      <td>10.0</td>\n",
       "      <td>3.636364</td>\n",
       "      <td>0.909091</td>\n",
       "    </tr>\n",
       "    <tr>\n",
       "      <th>FIREFIGHTING</th>\n",
       "      <td>40</td>\n",
       "      <td>37.0</td>\n",
       "      <td>3.300000</td>\n",
       "      <td>0.925000</td>\n",
       "    </tr>\n",
       "    <tr>\n",
       "      <th>AERIAL OBSERVATION</th>\n",
       "      <td>787</td>\n",
       "      <td>411.0</td>\n",
       "      <td>2.780178</td>\n",
       "      <td>0.522236</td>\n",
       "    </tr>\n",
       "    <tr>\n",
       "      <th>PUBLIC AIRCRAFT</th>\n",
       "      <td>710</td>\n",
       "      <td>389.0</td>\n",
       "      <td>2.518310</td>\n",
       "      <td>0.547887</td>\n",
       "    </tr>\n",
       "    <tr>\n",
       "      <th>AIR RACE/SHOW</th>\n",
       "      <td>53</td>\n",
       "      <td>27.0</td>\n",
       "      <td>2.433962</td>\n",
       "      <td>0.509434</td>\n",
       "    </tr>\n",
       "    <tr>\n",
       "      <th>BUSINESS</th>\n",
       "      <td>3971</td>\n",
       "      <td>2264.0</td>\n",
       "      <td>2.425334</td>\n",
       "      <td>0.570133</td>\n",
       "    </tr>\n",
       "  </tbody>\n",
       "</table>\n",
       "</div>"
      ],
      "text/plain": [
       "                     accidents  fatalities  avg_severity  fatality_rate\n",
       "Purpose.of.flight                                                      \n",
       "UNKNOWN                  12731     22064.0      6.774645       1.733092\n",
       "ASHO                         5         8.0      5.200000       1.600000\n",
       "SKYDIVING                  181       227.0      5.071823       1.254144\n",
       "EXECUTIVE/CORPORATE        542       569.0      3.990775       1.049815\n",
       "AIR DROP                    11        10.0      3.636364       0.909091\n",
       "FIREFIGHTING                40        37.0      3.300000       0.925000\n",
       "AERIAL OBSERVATION         787       411.0      2.780178       0.522236\n",
       "PUBLIC AIRCRAFT            710       389.0      2.518310       0.547887\n",
       "AIR RACE/SHOW               53        27.0      2.433962       0.509434\n",
       "BUSINESS                  3971      2264.0      2.425334       0.570133"
      ]
     },
     "metadata": {},
     "output_type": "display_data"
    }
   ],
   "source": [
    "# Key Risk Factors: Weather, Phase of Flight, and Purpose\n",
    "\n",
    "risk_factors = [\"Weather.Condition\", \"Broad.phase.of.flight\", \"Purpose.of.flight\"]\n",
    "\n",
    "factor_tables = {}\n",
    "for col in risk_factors:\n",
    "    stats = df.groupby(col).agg(\n",
    "        accidents=(\"Event.Id\", \"count\"),\n",
    "        fatalities=(\"Total.Fatal.Injuries\", \"sum\"),\n",
    "        avg_severity=(\"Severity.Index\", \"mean\")\n",
    "    )\n",
    "    stats[\"fatality_rate\"] = stats[\"fatalities\"] / stats[\"accidents\"]\n",
    "    stats = stats.sort_values(\"avg_severity\", ascending=False)\n",
    "    factor_tables[col] = stats\n",
    "\n",
    "# Display results\n",
    "for col, table in factor_tables.items():\n",
    "    print(f\"\\n Risk Profile by {col}\")\n",
    "    display(table.head(10)) "
   ]
  },
  {
   "cell_type": "markdown",
   "metadata": {},
   "source": [
    "Accident risk varies strongly by conditions and context. IMC flights show higher fatality rates (~1.94%) than VMC (~0.32%), highlighting weather as a major risk factor. By phase of flight, climb and maneuvering are especially hazardous (fatality rates >0.8%), while takeoff and standing phases are relatively lower risk. In terms of purpose, skydiving, corporate, and aerial drop operations stand out with high severity and fatality rates, whereas business and public flights show lower relative risk despite notable accident counts."
   ]
  },
  {
   "cell_type": "code",
   "execution_count": 195,
   "metadata": {},
   "outputs": [
    {
     "data": {
      "image/png": "[encoded data removed]",
      "text/plain": [
       "<Figure size 720x288 with 1 Axes>"
      ]
     },
     "metadata": {
      "needs_background": "light"
     },
     "output_type": "display_data"
    }
   ],
   "source": [
    "# Historical safety trends: normalized accidents & fatalities per year + decade summary (simple)\n",
    "\n",
    "# Per-year counts\n",
    "yr = df.groupby(\"Event.Year\").agg(\n",
    "    accidents=(\"Event.Id\", \"count\"),\n",
    "    fatalities=(\"Total.Fatal.Injuries\", \"sum\")\n",
    ").sort_index()\n",
    "\n",
    "# Normalize to percentages of total (so both lines share 0–100% scale)\n",
    "yr_pct = yr.div(yr.sum()) * 100 \n",
    "\n",
    "plt.figure(figsize=(10,4))\n",
    "plt.plot(yr_pct.index, yr_pct[\"accidents\"], label=\"Accidents (% of total)\")\n",
    "plt.plot(yr_pct.index, yr_pct[\"fatalities\"], label=\"Fatalities (% of total)\")\n",
    "plt.title(\"Historical Safety Trends (Normalized by Total)\")\n",
    "plt.xlabel(\"Year\")\n",
    "plt.ylabel(\"Share of Total (%)\")\n",
    "plt.legend();"
   ]
  },
  {
   "cell_type": "markdown",
   "metadata": {},
   "source": [
    "This plot shows that both accident and fatality shares peaked in the early 1980s but have steadily declined since then. The downward trend highlights long-term improvements in aviation safety, with fatalities decreasing at a faster rate than total accidents."
   ]
  },
  {
   "cell_type": "code",
   "execution_count": 196,
   "metadata": {},
   "outputs": [
    {
     "name": "stdout",
     "output_type": "stream",
     "text": [
      "Accidents & Fatality Rate by Decade:\n"
     ]
    },
    {
     "data": {
      "text/html": [
       "<div>\n",
       "<style scoped>\n",
       "    .dataframe tbody tr th:only-of-type {\n",
       "        vertical-align: middle;\n",
       "    }\n",
       "\n",
       "    .dataframe tbody tr th {\n",
       "        vertical-align: top;\n",
       "    }\n",
       "\n",
       "    .dataframe thead th {\n",
       "        text-align: right;\n",
       "    }\n",
       "</style>\n",
       "<table border=\"1\" class=\"dataframe\">\n",
       "  <thead>\n",
       "    <tr style=\"text-align: right;\">\n",
       "      <th></th>\n",
       "      <th>accidents</th>\n",
       "      <th>fatalities</th>\n",
       "      <th>fatality_rate</th>\n",
       "    </tr>\n",
       "    <tr>\n",
       "      <th>Decade</th>\n",
       "      <th></th>\n",
       "      <th></th>\n",
       "      <th></th>\n",
       "    </tr>\n",
       "  </thead>\n",
       "  <tbody>\n",
       "    <tr>\n",
       "      <th>1940</th>\n",
       "      <td>1</td>\n",
       "      <td>2.0</td>\n",
       "      <td>2.000000</td>\n",
       "    </tr>\n",
       "    <tr>\n",
       "      <th>1960</th>\n",
       "      <td>1</td>\n",
       "      <td>4.0</td>\n",
       "      <td>4.000000</td>\n",
       "    </tr>\n",
       "    <tr>\n",
       "      <th>1970</th>\n",
       "      <td>4</td>\n",
       "      <td>6.0</td>\n",
       "      <td>1.500000</td>\n",
       "    </tr>\n",
       "    <tr>\n",
       "      <th>1980</th>\n",
       "      <td>24312</td>\n",
       "      <td>10474.0</td>\n",
       "      <td>0.430816</td>\n",
       "    </tr>\n",
       "    <tr>\n",
       "      <th>1990</th>\n",
       "      <td>22661</td>\n",
       "      <td>12334.0</td>\n",
       "      <td>0.544283</td>\n",
       "    </tr>\n",
       "    <tr>\n",
       "      <th>2000</th>\n",
       "      <td>19698</td>\n",
       "      <td>13605.0</td>\n",
       "      <td>0.690679</td>\n",
       "    </tr>\n",
       "    <tr>\n",
       "      <th>2010</th>\n",
       "      <td>16756</td>\n",
       "      <td>10151.0</td>\n",
       "      <td>0.605813</td>\n",
       "    </tr>\n",
       "    <tr>\n",
       "      <th>2020</th>\n",
       "      <td>4518</td>\n",
       "      <td>2010.0</td>\n",
       "      <td>0.444887</td>\n",
       "    </tr>\n",
       "  </tbody>\n",
       "</table>\n",
       "</div>"
      ],
      "text/plain": [
       "        accidents  fatalities  fatality_rate\n",
       "Decade                                      \n",
       "1940            1         2.0       2.000000\n",
       "1960            1         4.0       4.000000\n",
       "1970            4         6.0       1.500000\n",
       "1980        24312     10474.0       0.430816\n",
       "1990        22661     12334.0       0.544283\n",
       "2000        19698     13605.0       0.690679\n",
       "2010        16756     10151.0       0.605813\n",
       "2020         4518      2010.0       0.444887"
      ]
     },
     "metadata": {},
     "output_type": "display_data"
    }
   ],
   "source": [
    "# Decade comparison table (accidents, fatalities, fatality rate)\n",
    "decade = (df[\"Event.Year\"] // 10) * 10\n",
    "decade_stats = df.assign(Decade=decade).groupby(\"Decade\").agg(\n",
    "    accidents=(\"Event.Id\", \"count\"),\n",
    "    fatalities=(\"Total.Fatal.Injuries\", \"sum\")\n",
    ")\n",
    "decade_stats[\"fatality_rate\"] = decade_stats[\"fatalities\"] / decade_stats[\"accidents\"]\n",
    "print(\"Accidents & Fatality Rate by Decade:\")\n",
    "display(decade_stats)"
   ]
  },
  {
   "cell_type": "markdown",
   "metadata": {},
   "source": [
    "### Key Findings\n",
    "* *Accident trends* show a steady decline in both accidents and fatalities since the 1990s.\n",
    "* *General Aviation* accounts for the majority of accidents and higher severity compared to Commercial flights.\n",
    "* *Approach, landing, and takeoff phases* are the most accident-prone stages of flight.\n",
    "* *Adverse or unknown weather conditions* are linked with higher accident severity."
   ]
  },
  {
   "cell_type": "markdown",
   "metadata": {},
   "source": [
    "\n",
    "\n",
    "###  Recommendations \n",
    "\n",
    "#### 1. Aircraft Acquisition\n",
    "* *Prioritize Cessna 172 and Beechcraft Bonanza models*: both show low Severity.Index scores and minimal fatality rates even with large usage samples.\n",
    "* *Cessna and Beechcraft makes overall* demonstrate strong safety profiles — large accident samples but comparatively mild outcomes, making them reliable acquisition choices.\n",
    "\n",
    "### 2. Operational Strategy\n",
    "* *Favor commercial operations over general aviation*: analysis shows commercial flights have lower accident severity, while personal/general aviation carries a higher proportion of fatal outcomes.\n",
    "* *Apply stricter oversight on personal use cases*, where pilot error and uncontrolled environments raise risk.\n",
    "\n",
    "### 3. Risk Mitigation\n",
    "* *Target high-risk phases of flight*: takeoff, approach, and landing show the highest accident severity; invest in pilot training and procedural controls for these phases.\n",
    "* *Minimize exposure to IMC and unknown weather conditions*, which significantly increase both accident likelihood and severity.\n"
   ]
  },
  {
   "cell_type": "markdown",
   "metadata": {},
   "source": [
    "### Conclusion\n",
    "The analysis of aviation accident data highlights clear patterns in aircraft safety and operational risks. Certain models such as the Cessna 172 and Beechcraft Bonanza consistently show lower severity, while commercial operations prove safer than general aviation. Overall, regulatory improvements and technology have reduced accidents, supporting informed aircraft acquisition decisions."
   ]
  }
 ],
 "metadata": {
  "kernelspec": {
   "display_name": "Python 3",
   "language": "python",
   "name": "python3"
  },
  "language_info": {
   "codemirror_mode": {
    "name": "ipython",
    "version": 3
   },
   "file_extension": ".py",
   "mimetype": "text/x-python",
   "name": "python",
   "nbconvert_exporter": "python",
   "pygments_lexer": "ipython3",
   "version": "3.8.5"
  }
 },
 "nbformat": 4,
 "nbformat_minor": 5
}
