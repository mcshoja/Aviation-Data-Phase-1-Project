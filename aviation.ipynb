{
 "cells": [
  {
   "cell_type": "markdown",
   "id": "c46eeda6",
   "metadata": {},
   "source": [
    "## Aviation Safety Risk Analysis: Identifying Low-Risk Aircraft Models"
   ]
  },
  {
   "cell_type": "markdown",
   "id": "2720e45b",
   "metadata": {},
   "source": [
    "### Overview\n",
    "This project evaluates civil aviation accident data from the National Transportation Safety Board (NTSB), covering incidents between 1948 and 2022. The purpose is to provide data-driven insights into aircraft safety, focusing on risk levels associated with different aircraft types and operational conditions. The final outcome is a set of actionable recommendations to guide business stakeholders in selecting aircraft models with the lowest risk profiles for potential acquisition and operation."
   ]
  },
  {
   "cell_type": "markdown",
   "id": "a75d7139",
   "metadata": {},
   "source": [
    "### Business Understanding\n",
    "The company intends to expand operations into the aviation industry, with an interest in both commercial and private aircraft. Entering this market involves significant financial and reputational risks, particularly if aircraft selected for acquisition are associated with high accident or fatality rates. The key business need is to identify aircraft models and operational factors that demonstrate the lowest risk. The findings will support informed decision-making for the head of the aviation division, whose objective is to minimize risk exposure while ensuring operational safety and long-term viability."
   ]
  },
  {
   "cell_type": "markdown",
   "id": "5efa1c3b",
   "metadata": {},
   "source": [
    "### Objectives\n",
    "* Identify aircraft models with the lowest accident and fatality rates.\n",
    "* Determine the operational or environmental factors (such as weather conditions, phase of flight, or purpose of flight) that most strongly influence accident severity.\n",
    "* Analyze historical trends to assess whether safety outcomes have improved over time, particularly with newer aircraft or changing regulations."
   ]
  },
  {
   "cell_type": "markdown",
   "id": "db380441",
   "metadata": {},
   "source": [
    "### 1. Data Loading"
   ]
  },
  {
   "cell_type": "code",
   "execution_count": 2,
   "id": "d87b3552",
   "metadata": {},
   "outputs": [],
   "source": [
    "# Import Required Liabraries\n",
    "import pandas as pd\n",
    "import numpy as np\n",
    "import matplotlib.pyplot as plt\n",
    "import seaborn as sns;"
   ]
  },
  {
   "cell_type": "code",
   "execution_count": 3,
   "id": "4eb0afd9",
   "metadata": {},
   "outputs": [
    {
     "name": "stderr",
     "output_type": "stream",
     "text": [
      "c:\\Users\\Jasho\\anaconda3\\envs\\learn-env\\lib\\site-packages\\IPython\\core\\interactiveshell.py:3145: DtypeWarning: Columns (6,7,28) have mixed types.Specify dtype option on import or set low_memory=False.\n",
      "  has_raised = await self.run_ast_nodes(code_ast.body, cell_name,\n"
     ]
    },
    {
     "data": {
      "text/html": [
       "<div>\n",
       "<style scoped>\n",
       "    .dataframe tbody tr th:only-of-type {\n",
       "        vertical-align: middle;\n",
       "    }\n",
       "\n",
       "    .dataframe tbody tr th {\n",
       "        vertical-align: top;\n",
       "    }\n",
       "\n",
       "    .dataframe thead th {\n",
       "        text-align: right;\n",
       "    }\n",
       "</style>\n",
       "<table border=\"1\" class=\"dataframe\">\n",
       "  <thead>\n",
       "    <tr style=\"text-align: right;\">\n",
       "      <th></th>\n",
       "      <th>Event.Id</th>\n",
       "      <th>Investigation.Type</th>\n",
       "      <th>Accident.Number</th>\n",
       "      <th>Event.Date</th>\n",
       "      <th>Location</th>\n",
       "      <th>Country</th>\n",
       "      <th>Latitude</th>\n",
       "      <th>Longitude</th>\n",
       "      <th>Airport.Code</th>\n",
       "      <th>Airport.Name</th>\n",
       "      <th>...</th>\n",
       "      <th>Purpose.of.flight</th>\n",
       "      <th>Air.carrier</th>\n",
       "      <th>Total.Fatal.Injuries</th>\n",
       "      <th>Total.Serious.Injuries</th>\n",
       "      <th>Total.Minor.Injuries</th>\n",
       "      <th>Total.Uninjured</th>\n",
       "      <th>Weather.Condition</th>\n",
       "      <th>Broad.phase.of.flight</th>\n",
       "      <th>Report.Status</th>\n",
       "      <th>Publication.Date</th>\n",
       "    </tr>\n",
       "  </thead>\n",
       "  <tbody>\n",
       "    <tr>\n",
       "      <th>0</th>\n",
       "      <td>20001218X45444</td>\n",
       "      <td>Accident</td>\n",
       "      <td>SEA87LA080</td>\n",
       "      <td>1948-10-24</td>\n",
       "      <td>MOOSE CREEK, ID</td>\n",
       "      <td>United States</td>\n",
       "      <td>NaN</td>\n",
       "      <td>NaN</td>\n",
       "      <td>NaN</td>\n",
       "      <td>NaN</td>\n",
       "      <td>...</td>\n",
       "      <td>Personal</td>\n",
       "      <td>NaN</td>\n",
       "      <td>2.0</td>\n",
       "      <td>0.0</td>\n",
       "      <td>0.0</td>\n",
       "      <td>0.0</td>\n",
       "      <td>UNK</td>\n",
       "      <td>Cruise</td>\n",
       "      <td>Probable Cause</td>\n",
       "      <td>NaN</td>\n",
       "    </tr>\n",
       "    <tr>\n",
       "      <th>1</th>\n",
       "      <td>20001218X45447</td>\n",
       "      <td>Accident</td>\n",
       "      <td>LAX94LA336</td>\n",
       "      <td>1962-07-19</td>\n",
       "      <td>BRIDGEPORT, CA</td>\n",
       "      <td>United States</td>\n",
       "      <td>NaN</td>\n",
       "      <td>NaN</td>\n",
       "      <td>NaN</td>\n",
       "      <td>NaN</td>\n",
       "      <td>...</td>\n",
       "      <td>Personal</td>\n",
       "      <td>NaN</td>\n",
       "      <td>4.0</td>\n",
       "      <td>0.0</td>\n",
       "      <td>0.0</td>\n",
       "      <td>0.0</td>\n",
       "      <td>UNK</td>\n",
       "      <td>Unknown</td>\n",
       "      <td>Probable Cause</td>\n",
       "      <td>19-09-1996</td>\n",
       "    </tr>\n",
       "    <tr>\n",
       "      <th>2</th>\n",
       "      <td>20061025X01555</td>\n",
       "      <td>Accident</td>\n",
       "      <td>NYC07LA005</td>\n",
       "      <td>1974-08-30</td>\n",
       "      <td>Saltville, VA</td>\n",
       "      <td>United States</td>\n",
       "      <td>36.9222</td>\n",
       "      <td>-81.8781</td>\n",
       "      <td>NaN</td>\n",
       "      <td>NaN</td>\n",
       "      <td>...</td>\n",
       "      <td>Personal</td>\n",
       "      <td>NaN</td>\n",
       "      <td>3.0</td>\n",
       "      <td>NaN</td>\n",
       "      <td>NaN</td>\n",
       "      <td>NaN</td>\n",
       "      <td>IMC</td>\n",
       "      <td>Cruise</td>\n",
       "      <td>Probable Cause</td>\n",
       "      <td>26-02-2007</td>\n",
       "    </tr>\n",
       "    <tr>\n",
       "      <th>3</th>\n",
       "      <td>20001218X45448</td>\n",
       "      <td>Accident</td>\n",
       "      <td>LAX96LA321</td>\n",
       "      <td>1977-06-19</td>\n",
       "      <td>EUREKA, CA</td>\n",
       "      <td>United States</td>\n",
       "      <td>NaN</td>\n",
       "      <td>NaN</td>\n",
       "      <td>NaN</td>\n",
       "      <td>NaN</td>\n",
       "      <td>...</td>\n",
       "      <td>Personal</td>\n",
       "      <td>NaN</td>\n",
       "      <td>2.0</td>\n",
       "      <td>0.0</td>\n",
       "      <td>0.0</td>\n",
       "      <td>0.0</td>\n",
       "      <td>IMC</td>\n",
       "      <td>Cruise</td>\n",
       "      <td>Probable Cause</td>\n",
       "      <td>12-09-2000</td>\n",
       "    </tr>\n",
       "    <tr>\n",
       "      <th>4</th>\n",
       "      <td>20041105X01764</td>\n",
       "      <td>Accident</td>\n",
       "      <td>CHI79FA064</td>\n",
       "      <td>1979-08-02</td>\n",
       "      <td>Canton, OH</td>\n",
       "      <td>United States</td>\n",
       "      <td>NaN</td>\n",
       "      <td>NaN</td>\n",
       "      <td>NaN</td>\n",
       "      <td>NaN</td>\n",
       "      <td>...</td>\n",
       "      <td>Personal</td>\n",
       "      <td>NaN</td>\n",
       "      <td>1.0</td>\n",
       "      <td>2.0</td>\n",
       "      <td>NaN</td>\n",
       "      <td>0.0</td>\n",
       "      <td>VMC</td>\n",
       "      <td>Approach</td>\n",
       "      <td>Probable Cause</td>\n",
       "      <td>16-04-1980</td>\n",
       "    </tr>\n",
       "  </tbody>\n",
       "</table>\n",
       "<p>5 rows × 31 columns</p>\n",
       "</div>"
      ],
      "text/plain": [
       "         Event.Id Investigation.Type Accident.Number  Event.Date  \\\n",
       "0  20001218X45444           Accident      SEA87LA080  1948-10-24   \n",
       "1  20001218X45447           Accident      LAX94LA336  1962-07-19   \n",
       "2  20061025X01555           Accident      NYC07LA005  1974-08-30   \n",
       "3  20001218X45448           Accident      LAX96LA321  1977-06-19   \n",
       "4  20041105X01764           Accident      CHI79FA064  1979-08-02   \n",
       "\n",
       "          Location        Country Latitude Longitude Airport.Code  \\\n",
       "0  MOOSE CREEK, ID  United States      NaN       NaN          NaN   \n",
       "1   BRIDGEPORT, CA  United States      NaN       NaN          NaN   \n",
       "2    Saltville, VA  United States  36.9222  -81.8781          NaN   \n",
       "3       EUREKA, CA  United States      NaN       NaN          NaN   \n",
       "4       Canton, OH  United States      NaN       NaN          NaN   \n",
       "\n",
       "  Airport.Name  ... Purpose.of.flight Air.carrier Total.Fatal.Injuries  \\\n",
       "0          NaN  ...          Personal         NaN                  2.0   \n",
       "1          NaN  ...          Personal         NaN                  4.0   \n",
       "2          NaN  ...          Personal         NaN                  3.0   \n",
       "3          NaN  ...          Personal         NaN                  2.0   \n",
       "4          NaN  ...          Personal         NaN                  1.0   \n",
       "\n",
       "  Total.Serious.Injuries Total.Minor.Injuries Total.Uninjured  \\\n",
       "0                    0.0                  0.0             0.0   \n",
       "1                    0.0                  0.0             0.0   \n",
       "2                    NaN                  NaN             NaN   \n",
       "3                    0.0                  0.0             0.0   \n",
       "4                    2.0                  NaN             0.0   \n",
       "\n",
       "  Weather.Condition  Broad.phase.of.flight   Report.Status Publication.Date  \n",
       "0               UNK                 Cruise  Probable Cause              NaN  \n",
       "1               UNK                Unknown  Probable Cause       19-09-1996  \n",
       "2               IMC                 Cruise  Probable Cause       26-02-2007  \n",
       "3               IMC                 Cruise  Probable Cause       12-09-2000  \n",
       "4               VMC               Approach  Probable Cause       16-04-1980  \n",
       "\n",
       "[5 rows x 31 columns]"
      ]
     },
     "execution_count": 3,
     "metadata": {},
     "output_type": "execute_result"
    }
   ],
   "source": [
    "# Load the Dataset\n",
    "df = pd. read_csv('./Aviation_Data.csv')\n",
    "df.head()"
   ]
  },
  {
   "cell_type": "code",
   "execution_count": 4,
   "id": "8c5a2eb3",
   "metadata": {},
   "outputs": [
    {
     "data": {
      "text/plain": [
       "(90348, 31)"
      ]
     },
     "execution_count": 4,
     "metadata": {},
     "output_type": "execute_result"
    }
   ],
   "source": [
    "# Shape of the dataset\n",
    "df.shape"
   ]
  },
  {
   "cell_type": "code",
   "execution_count": 5,
   "id": "240e5287",
   "metadata": {},
   "outputs": [
    {
     "data": {
      "text/plain": [
       "Index(['Event.Id', 'Investigation.Type', 'Accident.Number', 'Event.Date',\n",
       "       'Location', 'Country', 'Latitude', 'Longitude', 'Airport.Code',\n",
       "       'Airport.Name', 'Injury.Severity', 'Aircraft.damage',\n",
       "       'Aircraft.Category', 'Registration.Number', 'Make', 'Model',\n",
       "       'Amateur.Built', 'Number.of.Engines', 'Engine.Type', 'FAR.Description',\n",
       "       'Schedule', 'Purpose.of.flight', 'Air.carrier', 'Total.Fatal.Injuries',\n",
       "       'Total.Serious.Injuries', 'Total.Minor.Injuries', 'Total.Uninjured',\n",
       "       'Weather.Condition', 'Broad.phase.of.flight', 'Report.Status',\n",
       "       'Publication.Date'],\n",
       "      dtype='object')"
      ]
     },
     "execution_count": 5,
     "metadata": {},
     "output_type": "execute_result"
    }
   ],
   "source": [
    "# Column names\n",
    "df.columns"
   ]
  },
  {
   "cell_type": "code",
   "execution_count": 6,
   "id": "aa0bb097",
   "metadata": {},
   "outputs": [
    {
     "name": "stdout",
     "output_type": "stream",
     "text": [
      "<class 'pandas.core.frame.DataFrame'>\n",
      "RangeIndex: 90348 entries, 0 to 90347\n",
      "Data columns (total 31 columns):\n",
      " #   Column                  Non-Null Count  Dtype  \n",
      "---  ------                  --------------  -----  \n",
      " 0   Event.Id                88889 non-null  object \n",
      " 1   Investigation.Type      90348 non-null  object \n",
      " 2   Accident.Number         88889 non-null  object \n",
      " 3   Event.Date              88889 non-null  object \n",
      " 4   Location                88837 non-null  object \n",
      " 5   Country                 88663 non-null  object \n",
      " 6   Latitude                34382 non-null  object \n",
      " 7   Longitude               34373 non-null  object \n",
      " 8   Airport.Code            50249 non-null  object \n",
      " 9   Airport.Name            52790 non-null  object \n",
      " 10  Injury.Severity         87889 non-null  object \n",
      " 11  Aircraft.damage         85695 non-null  object \n",
      " 12  Aircraft.Category       32287 non-null  object \n",
      " 13  Registration.Number     87572 non-null  object \n",
      " 14  Make                    88826 non-null  object \n",
      " 15  Model                   88797 non-null  object \n",
      " 16  Amateur.Built           88787 non-null  object \n",
      " 17  Number.of.Engines       82805 non-null  float64\n",
      " 18  Engine.Type             81812 non-null  object \n",
      " 19  FAR.Description         32023 non-null  object \n",
      " 20  Schedule                12582 non-null  object \n",
      " 21  Purpose.of.flight       82697 non-null  object \n",
      " 22  Air.carrier             16648 non-null  object \n",
      " 23  Total.Fatal.Injuries    77488 non-null  float64\n",
      " 24  Total.Serious.Injuries  76379 non-null  float64\n",
      " 25  Total.Minor.Injuries    76956 non-null  float64\n",
      " 26  Total.Uninjured         82977 non-null  float64\n",
      " 27  Weather.Condition       84397 non-null  object \n",
      " 28  Broad.phase.of.flight   61724 non-null  object \n",
      " 29  Report.Status           82508 non-null  object \n",
      " 30  Publication.Date        73659 non-null  object \n",
      "dtypes: float64(5), object(26)\n",
      "memory usage: 21.4+ MB\n"
     ]
    }
   ],
   "source": [
    "# Overview of the dataset\n",
    "df.info()"
   ]
  },
  {
   "cell_type": "markdown",
   "id": "7fe0267c",
   "metadata": {},
   "source": [
    "### 2. Data Understanding"
   ]
  },
  {
   "cell_type": "code",
   "execution_count": 7,
   "id": "0354ad62",
   "metadata": {},
   "outputs": [
    {
     "name": "stdout",
     "output_type": "stream",
     "text": [
      "Dataset Years: 1948.0 - 2022.0\n"
     ]
    }
   ],
   "source": [
    "# Dataset Coverage\n",
    "\n",
    "# Convert Event.Date column to datetime\n",
    "df[\"Event.Date\"] = pd.to_datetime(df[\"Event.Date\"], errors=\"coerce\")\n",
    "\n",
    "# Get min and max year from Event.Date\n",
    "print(\"Dataset Years:\", df[\"Event.Date\"].dt.year.min(), \"-\", df[\"Event.Date\"].dt.year.max())"
   ]
  },
  {
   "cell_type": "code",
   "execution_count": 8,
   "id": "e4918240",
   "metadata": {},
   "outputs": [
    {
     "name": "stdout",
     "output_type": "stream",
     "text": [
      "Top 10 Countries by number of events:\n",
      "United States     82248\n",
      "Brazil              374\n",
      "Canada              359\n",
      "Mexico              358\n",
      "United Kingdom      344\n",
      "Australia           300\n",
      "France              236\n",
      "Spain               226\n",
      "Bahamas             216\n",
      "Germany             215\n",
      "Name: Country, dtype: int64\n"
     ]
    }
   ],
   "source": [
    "# Top 10 countries with most recorded events\n",
    "top_countries = df[\"Country\"].value_counts().head(10)\n",
    "print(\"Top 10 Countries by number of events:\")\n",
    "print(top_countries)"
   ]
  },
  {
   "cell_type": "code",
   "execution_count": 9,
   "id": "d0f0efbc",
   "metadata": {},
   "outputs": [
    {
     "name": "stdout",
     "output_type": "stream",
     "text": [
      "Top Aircraft Categories:\n",
      "NaN                  58061\n",
      "Airplane             27617\n",
      "Helicopter            3440\n",
      "Glider                 508\n",
      "Balloon                231\n",
      "Gyrocraft              173\n",
      "Weight-Shift           161\n",
      "Powered Parachute       91\n",
      "Ultralight              30\n",
      "Unknown                 14\n",
      "Name: Aircraft.Category, dtype: int64\n"
     ]
    }
   ],
   "source": [
    "# Aircraft Categories distribution\n",
    "aircraft_categories = df[\"Aircraft.Category\"].value_counts(dropna=False).head(10)\n",
    "print(\"Top Aircraft Categories:\")\n",
    "print(aircraft_categories)"
   ]
  },
  {
   "cell_type": "code",
   "execution_count": 10,
   "id": "ee552924",
   "metadata": {},
   "outputs": [
    {
     "data": {
      "text/html": [
       "<div>\n",
       "<style scoped>\n",
       "    .dataframe tbody tr th:only-of-type {\n",
       "        vertical-align: middle;\n",
       "    }\n",
       "\n",
       "    .dataframe tbody tr th {\n",
       "        vertical-align: top;\n",
       "    }\n",
       "\n",
       "    .dataframe thead th {\n",
       "        text-align: right;\n",
       "    }\n",
       "</style>\n",
       "<table border=\"1\" class=\"dataframe\">\n",
       "  <thead>\n",
       "    <tr style=\"text-align: right;\">\n",
       "      <th></th>\n",
       "      <th>count</th>\n",
       "      <th>mean</th>\n",
       "      <th>std</th>\n",
       "      <th>min</th>\n",
       "      <th>25%</th>\n",
       "      <th>50%</th>\n",
       "      <th>75%</th>\n",
       "      <th>max</th>\n",
       "    </tr>\n",
       "  </thead>\n",
       "  <tbody>\n",
       "    <tr>\n",
       "      <th>Total.Fatal.Injuries</th>\n",
       "      <td>77488.0</td>\n",
       "      <td>0.647855</td>\n",
       "      <td>5.485960</td>\n",
       "      <td>0.0</td>\n",
       "      <td>0.0</td>\n",
       "      <td>0.0</td>\n",
       "      <td>0.0</td>\n",
       "      <td>349.0</td>\n",
       "    </tr>\n",
       "    <tr>\n",
       "      <th>Total.Serious.Injuries</th>\n",
       "      <td>76379.0</td>\n",
       "      <td>0.279881</td>\n",
       "      <td>1.544084</td>\n",
       "      <td>0.0</td>\n",
       "      <td>0.0</td>\n",
       "      <td>0.0</td>\n",
       "      <td>0.0</td>\n",
       "      <td>161.0</td>\n",
       "    </tr>\n",
       "    <tr>\n",
       "      <th>Total.Minor.Injuries</th>\n",
       "      <td>76956.0</td>\n",
       "      <td>0.357061</td>\n",
       "      <td>2.235625</td>\n",
       "      <td>0.0</td>\n",
       "      <td>0.0</td>\n",
       "      <td>0.0</td>\n",
       "      <td>0.0</td>\n",
       "      <td>380.0</td>\n",
       "    </tr>\n",
       "    <tr>\n",
       "      <th>Total.Uninjured</th>\n",
       "      <td>82977.0</td>\n",
       "      <td>5.325440</td>\n",
       "      <td>27.913634</td>\n",
       "      <td>0.0</td>\n",
       "      <td>0.0</td>\n",
       "      <td>1.0</td>\n",
       "      <td>2.0</td>\n",
       "      <td>699.0</td>\n",
       "    </tr>\n",
       "    <tr>\n",
       "      <th>Number.of.Engines</th>\n",
       "      <td>82805.0</td>\n",
       "      <td>1.146585</td>\n",
       "      <td>0.446510</td>\n",
       "      <td>0.0</td>\n",
       "      <td>1.0</td>\n",
       "      <td>1.0</td>\n",
       "      <td>1.0</td>\n",
       "      <td>8.0</td>\n",
       "    </tr>\n",
       "  </tbody>\n",
       "</table>\n",
       "</div>"
      ],
      "text/plain": [
       "                          count      mean        std  min  25%  50%  75%  \\\n",
       "Total.Fatal.Injuries    77488.0  0.647855   5.485960  0.0  0.0  0.0  0.0   \n",
       "Total.Serious.Injuries  76379.0  0.279881   1.544084  0.0  0.0  0.0  0.0   \n",
       "Total.Minor.Injuries    76956.0  0.357061   2.235625  0.0  0.0  0.0  0.0   \n",
       "Total.Uninjured         82977.0  5.325440  27.913634  0.0  0.0  1.0  2.0   \n",
       "Number.of.Engines       82805.0  1.146585   0.446510  0.0  1.0  1.0  1.0   \n",
       "\n",
       "                          max  \n",
       "Total.Fatal.Injuries    349.0  \n",
       "Total.Serious.Injuries  161.0  \n",
       "Total.Minor.Injuries    380.0  \n",
       "Total.Uninjured         699.0  \n",
       "Number.of.Engines         8.0  "
      ]
     },
     "execution_count": 10,
     "metadata": {},
     "output_type": "execute_result"
    }
   ],
   "source": [
    "# Descriptive Statistics for Numeric Fields\n",
    "# numeric columns related to injuries and engines\n",
    "numeric_cols = [\n",
    "    \"Total.Fatal.Injuries\", \n",
    "    \"Total.Serious.Injuries\", \n",
    "    \"Total.Minor.Injuries\", \n",
    "    \"Total.Uninjured\", \n",
    "    \"Number.of.Engines\"\n",
    "]\n",
    "\n",
    "df[numeric_cols].describe().transpose()"
   ]
  },
  {
   "cell_type": "code",
   "execution_count": 11,
   "id": "0e9ebd77",
   "metadata": {},
   "outputs": [
    {
     "data": {
      "text/html": [
       "<div>\n",
       "<style scoped>\n",
       "    .dataframe tbody tr th:only-of-type {\n",
       "        vertical-align: middle;\n",
       "    }\n",
       "\n",
       "    .dataframe tbody tr th {\n",
       "        vertical-align: top;\n",
       "    }\n",
       "\n",
       "    .dataframe thead th {\n",
       "        text-align: right;\n",
       "    }\n",
       "</style>\n",
       "<table border=\"1\" class=\"dataframe\">\n",
       "  <thead>\n",
       "    <tr style=\"text-align: right;\">\n",
       "      <th></th>\n",
       "      <th>Column</th>\n",
       "      <th>Missing_Count</th>\n",
       "      <th>Missing_Percent</th>\n",
       "    </tr>\n",
       "  </thead>\n",
       "  <tbody>\n",
       "    <tr>\n",
       "      <th>20</th>\n",
       "      <td>Schedule</td>\n",
       "      <td>77766</td>\n",
       "      <td>86.073848</td>\n",
       "    </tr>\n",
       "    <tr>\n",
       "      <th>22</th>\n",
       "      <td>Air.carrier</td>\n",
       "      <td>73700</td>\n",
       "      <td>81.573471</td>\n",
       "    </tr>\n",
       "    <tr>\n",
       "      <th>19</th>\n",
       "      <td>FAR.Description</td>\n",
       "      <td>58325</td>\n",
       "      <td>64.555939</td>\n",
       "    </tr>\n",
       "    <tr>\n",
       "      <th>12</th>\n",
       "      <td>Aircraft.Category</td>\n",
       "      <td>58061</td>\n",
       "      <td>64.263736</td>\n",
       "    </tr>\n",
       "    <tr>\n",
       "      <th>7</th>\n",
       "      <td>Longitude</td>\n",
       "      <td>55975</td>\n",
       "      <td>61.954886</td>\n",
       "    </tr>\n",
       "    <tr>\n",
       "      <th>6</th>\n",
       "      <td>Latitude</td>\n",
       "      <td>55966</td>\n",
       "      <td>61.944924</td>\n",
       "    </tr>\n",
       "    <tr>\n",
       "      <th>8</th>\n",
       "      <td>Airport.Code</td>\n",
       "      <td>40099</td>\n",
       "      <td>44.382831</td>\n",
       "    </tr>\n",
       "    <tr>\n",
       "      <th>9</th>\n",
       "      <td>Airport.Name</td>\n",
       "      <td>37558</td>\n",
       "      <td>41.570372</td>\n",
       "    </tr>\n",
       "    <tr>\n",
       "      <th>28</th>\n",
       "      <td>Broad.phase.of.flight</td>\n",
       "      <td>28624</td>\n",
       "      <td>31.681941</td>\n",
       "    </tr>\n",
       "    <tr>\n",
       "      <th>30</th>\n",
       "      <td>Publication.Date</td>\n",
       "      <td>16689</td>\n",
       "      <td>18.471909</td>\n",
       "    </tr>\n",
       "    <tr>\n",
       "      <th>24</th>\n",
       "      <td>Total.Serious.Injuries</td>\n",
       "      <td>13969</td>\n",
       "      <td>15.461327</td>\n",
       "    </tr>\n",
       "    <tr>\n",
       "      <th>25</th>\n",
       "      <td>Total.Minor.Injuries</td>\n",
       "      <td>13392</td>\n",
       "      <td>14.822686</td>\n",
       "    </tr>\n",
       "    <tr>\n",
       "      <th>23</th>\n",
       "      <td>Total.Fatal.Injuries</td>\n",
       "      <td>12860</td>\n",
       "      <td>14.233851</td>\n",
       "    </tr>\n",
       "    <tr>\n",
       "      <th>18</th>\n",
       "      <td>Engine.Type</td>\n",
       "      <td>8536</td>\n",
       "      <td>9.447913</td>\n",
       "    </tr>\n",
       "    <tr>\n",
       "      <th>29</th>\n",
       "      <td>Report.Status</td>\n",
       "      <td>7840</td>\n",
       "      <td>8.677558</td>\n",
       "    </tr>\n",
       "  </tbody>\n",
       "</table>\n",
       "</div>"
      ],
      "text/plain": [
       "                    Column  Missing_Count  Missing_Percent\n",
       "20                Schedule          77766        86.073848\n",
       "22             Air.carrier          73700        81.573471\n",
       "19         FAR.Description          58325        64.555939\n",
       "12       Aircraft.Category          58061        64.263736\n",
       "7                Longitude          55975        61.954886\n",
       "6                 Latitude          55966        61.944924\n",
       "8             Airport.Code          40099        44.382831\n",
       "9             Airport.Name          37558        41.570372\n",
       "28   Broad.phase.of.flight          28624        31.681941\n",
       "30        Publication.Date          16689        18.471909\n",
       "24  Total.Serious.Injuries          13969        15.461327\n",
       "25    Total.Minor.Injuries          13392        14.822686\n",
       "23    Total.Fatal.Injuries          12860        14.233851\n",
       "18             Engine.Type           8536         9.447913\n",
       "29           Report.Status           7840         8.677558"
      ]
     },
     "execution_count": 11,
     "metadata": {},
     "output_type": "execute_result"
    }
   ],
   "source": [
    "# Missing Values: Counts and Percentages\n",
    "missing = df.isnull().sum().reset_index()\n",
    "missing.columns = [\"Column\", \"Missing_Count\"]\n",
    "missing[\"Missing_Percent\"] = (missing[\"Missing_Count\"] / len(df)) * 100\n",
    "missing.sort_values(by=\"Missing_Percent\", ascending=False).head(15)"
   ]
  },
  {
   "cell_type": "code",
   "execution_count": 12,
   "id": "7d98f4cb",
   "metadata": {},
   "outputs": [
    {
     "name": "stdout",
     "output_type": "stream",
     "text": [
      "Relevant fields for analysis:\n",
      "['Make', 'Model', 'Injury.Severity', 'Weather.Condition', 'Broad.phase.of.flight', 'Purpose.of.flight', 'Event.Date', 'Country']\n"
     ]
    }
   ],
   "source": [
    "# Fields Relevant to Project Objectives\n",
    "relevant_fields = [\n",
    "    \"Make\",              # Aircraft manufacturer\n",
    "    \"Model\",             # Aircraft model\n",
    "    \"Injury.Severity\",   # Severity classification\n",
    "    \"Weather.Condition\", # VMC, IMC, UNK\n",
    "    \"Broad.phase.of.flight\", # Phase of flight\n",
    "    \"Purpose.of.flight\", # Flight purpose (commercial, personal, etc.)\n",
    "    \"Event.Date\",        # To analyze trends over time\n",
    "    \"Country\"            # For geographical context\n",
    "]\n",
    "\n",
    "print(\"Relevant fields for analysis:\")\n",
    "print(relevant_fields)"
   ]
  },
  {
   "cell_type": "code",
   "execution_count": 13,
   "id": "1acf8298",
   "metadata": {},
   "outputs": [
    {
     "data": {
      "image/png": "[encoded data removed]",
      "text/plain": [
       "<Figure size 720x360 with 1 Axes>"
      ]
     },
     "metadata": {
      "needs_background": "light"
     },
     "output_type": "display_data"
    }
   ],
   "source": [
    "# Top 10 columns by missing %\n",
    "missing_pct = (df.isnull().mean() * 100).sort_values(ascending=False).head(10)\n",
    "plt.figure(figsize=(10, 5))\n",
    "plt.barh(missing_pct.index, missing_pct.values)\n",
    "plt.xlabel(\"Missing (%)\")\n",
    "plt.title(\"Top 10 columns with most missing data\")\n",
    "plt.gca().invert_yaxis();"
   ]
  },
  {
   "cell_type": "markdown",
   "id": "d249809e",
   "metadata": {},
   "source": [
    "The chart highlights that several key fields (like Schedule, Air.carrier, FAR Description and Aircraft Category) have very high missing percentages, which limits how deeply they can be used in analysis."
   ]
  },
  {
   "cell_type": "markdown",
   "id": "fd3db731",
   "metadata": {},
   "source": [
    "### 3. Data Preparation"
   ]
  },
  {
   "cell_type": "code",
   "execution_count": 14,
   "id": "7d55b416",
   "metadata": {},
   "outputs": [
    {
     "name": "stdout",
     "output_type": "stream",
     "text": [
      "Event.Date dtypes: datetime64[ns]\n",
      "Publication.Date dtypes: datetime64[ns]\n"
     ]
    }
   ],
   "source": [
    "# Data Formatting\n",
    "\n",
    "# Ensure both Event.Date and Publication.Date are datetime\n",
    "df[\"Event.Date\"] = pd.to_datetime(df[\"Event.Date\"], errors=\"coerce\")\n",
    "df[\"Publication.Date\"] = pd.to_datetime(df[\"Publication.Date\"], errors=\"coerce\")\n",
    "\n",
    "# Create new column for year\n",
    "df[\"Event.Year\"] = df[\"Event.Date\"].dt.year\n",
    "\n",
    "print(\"Event.Date dtypes:\", df[\"Event.Date\"].dtype)\n",
    "print(\"Publication.Date dtypes:\", df[\"Publication.Date\"].dtype)"
   ]
  },
  {
   "cell_type": "code",
   "execution_count": 17,
   "id": "f7b80f5d",
   "metadata": {},
   "outputs": [
    {
     "data": {
      "text/plain": [
       "array(['FATAL(2)', 'FATAL(4)', 'FATAL(3)', 'FATAL(1)', 'NON-FATAL',\n",
       "       'INCIDENT', 'FATAL(8)', 'FATAL(78)', 'FATAL(7)', 'FATAL(6)'],\n",
       "      dtype=object)"
      ]
     },
     "execution_count": 17,
     "metadata": {},
     "output_type": "execute_result"
    }
   ],
   "source": [
    "# Categorical Standardization\n",
    "\n",
    "# Select categorical columns to standardiza\n",
    "cat_cols = [\n",
    "    \"Investigation.Type\", \"Country\", \"Injury.Severity\",\n",
    "    \"Aircraft.damage\", \"Aircraft.Category\", \"Make\",\n",
    "    \"Model\", \"Amateur.Built\", \"Engine.Type\",\n",
    "    \"Purpose.of.flight\", \"Weather.Condition\",\n",
    "    \"Broad.phase.of.flight\", \"Report.Status\"\n",
    "]\n",
    "\n",
    "# convert to string, strip space and uppercase\n",
    "for col in cat_cols:\n",
    "    df[col] = df[col].astype(str).str.strip().str.upper()\n",
    "\n",
    "df[\"Injury.Severity\"].unique()[:10]"
   ]
  },
  {
   "cell_type": "code",
   "execution_count": 19,
   "id": "a3b4d54d",
   "metadata": {},
   "outputs": [],
   "source": [
    "# Missing values\n",
    "\n",
    "# Replace \"NAN\"/\"NONE\"/\"UNK\" type placeholders with \"UNKNOWN\"\n",
    "df[\"Weather.Condition\"] = df[\"Weather.Condition\"].replace({\"UNK\": \"UNKNOWN\"})\n",
    "\n",
    "# fill missing Purpose.of.flight with \"UNKNOWN\"\n",
    "df[\"Purpose.of.flight\"] = df[\"Purpose.of.flight\"].fillna(\"UNKNOWN\")\n",
    "\n",
    "# Fill missing Injury.Serverity with \"UNKNOWN\"\n",
    "df[\"Injury.Severity\"] = df[\"Injury.Severity\"].fillna(\"UNKNOWN\")\n"
   ]
  },
  {
   "cell_type": "code",
   "execution_count": 20,
   "id": "fed20fbf",
   "metadata": {},
   "outputs": [
    {
     "name": "stdout",
     "output_type": "stream",
     "text": [
      "   Severity.Index Flight.Category  Event.Year\n",
      "0             6.0        PERSONAL      1948.0\n",
      "1            12.0        PERSONAL      1962.0\n",
      "2             9.0        PERSONAL      1974.0\n",
      "3             6.0        PERSONAL      1977.0\n",
      "4             7.0        PERSONAL      1979.0\n"
     ]
    }
   ],
   "source": [
    "# Feature Engineering\n",
    "\n",
    "# Create Serverity Index\n",
    "# Fatalities = weight 3, Serious = 2, Minor = 1\n",
    "df[\"Total.Fatal.Injuries\"] = pd.to_numeric(df[\"Total.Fatal.Injuries\"], errors=\"coerce\").fillna(0)\n",
    "df[\"Total.Serious.Injuries\"] = pd.to_numeric(df[\"Total.Serious.Injuries\"], errors=\"coerce\").fillna(0)\n",
    "df[\"Total.Minor.Injuries\"] = pd.to_numeric(df[\"Total.Minor.Injuries\"], errors=\"coerce\").fillna(0)\n",
    "\n",
    "df[\"Severity.Index\"] = (\n",
    "    df[\"Total.Fatal.Injuries\"] * 3 +\n",
    "    df[\"Total.Serious.Injuries\"] * 2 +\n",
    "    df[\"Total.Minor.Injuries\"] * 1\n",
    ")\n",
    "\n",
    "# Categorize flights: Commercial vs personal\n",
    "df[\"Flight.Category\"] = np.where(\n",
    "    df[\"Purpose.of.flight\"].str.contains(\"COMMERCIAL|AIR TAXI|BUSINESS\", case=False, na=False),\n",
    "    \"COMMERCIAL\",\n",
    "    \"PERSONAL\"\n",
    ")\n",
    "\n",
    "print(df[[\"Severity.Index\", \"Flight.Category\", \"Event.Year\"]].head())"
   ]
  },
  {
   "cell_type": "code",
   "execution_count": null,
   "id": "304df378",
   "metadata": {},
   "outputs": [],
   "source": []
  }
 ],
 "metadata": {
  "kernelspec": {
   "display_name": "learn-env",
   "language": "python",
   "name": "python3"
  },
  "language_info": {
   "codemirror_mode": {
    "name": "ipython",
    "version": 3
   },
   "file_extension": ".py",
   "mimetype": "text/x-python",
   "name": "python",
   "nbconvert_exporter": "python",
   "pygments_lexer": "ipython3",
   "version": "3.8.5"
  }
 },
 "nbformat": 4,
 "nbformat_minor": 5
}
